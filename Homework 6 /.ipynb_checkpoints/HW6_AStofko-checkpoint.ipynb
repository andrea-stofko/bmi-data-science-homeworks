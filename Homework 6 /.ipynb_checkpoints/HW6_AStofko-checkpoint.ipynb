{
 "cells": [
  {
   "cell_type": "markdown",
   "metadata": {},
   "source": [
    "# Introduction to Data Science – Homework 6\n",
    "*COMP 5360 / MATH 4100, University of Utah, http://datasciencecourse.net/*\n",
    "\n",
    "Due: Friday, Feburary 28 2025, 11:59pm.\n",
    "\n",
    "In Part 1 of this homework you will scrape github repositories and organize the information in a Pandas dataframe. In Part 2, you will use linear regression to gain meaningful insights. "
   ]
  },
  {
   "cell_type": "markdown",
   "metadata": {},
   "source": [
    "## Your Data\n",
    "First Name: Andrea\n",
    "<br>\n",
    "Last Name: Stofko\n",
    "<br>\n",
    "E-mail: andrea.stofko@utah.edu\n",
    "<br>\n",
    "UID: u6040357\n",
    "<br>"
   ]
  },
  {
   "cell_type": "code",
   "execution_count": 18,
   "metadata": {},
   "outputs": [],
   "source": [
    "# imports and setup \n",
    "from bs4 import BeautifulSoup\n",
    "\n",
    "import pandas as pd\n",
    "import scipy as sc\n",
    "import numpy as np\n",
    "\n",
    "import statsmodels.formula.api as sm\n",
    "\n",
    "import matplotlib.pyplot as plt \n",
    "plt.style.use('ggplot')\n",
    "%matplotlib inline  \n",
    "plt.rcParams['figure.figsize'] = (10, 6) \n",
    "# where the data is stored \n",
    "DATA_PATH = \"snapshots\""
   ]
  },
  {
   "cell_type": "markdown",
   "metadata": {},
   "source": [
    "### 1. Scrape Github Repository List using BeautifulSoup\n",
    "In this part you will explore Github repositories, specifically the 100 most-starred repositories. You are going to scrape data from a snapshot of [this repository list](https://github.com/search?o=desc&q=stars%3A%3E1&s=stars&type=Repositories)."
   ]
  },
  {
   "cell_type": "markdown",
   "metadata": {},
   "source": [
    "### 1.1. Check whether you are permitted to scrape the data\n",
    "Before you start to scrape any website you should go through the terms of service and policy documents of the website. Almost all websites post conditions to use their data. Check the terms of [https://github.com/](https://github.com/) (see the tiny \"terms\" link at the bottom of the page) to see whether the site permits you to scrape their data or not. Are you sure you are allowed to scrape?"
   ]
  },
  {
   "cell_type": "markdown",
   "metadata": {},
   "source": [
    "**Your solution:**\n",
    "TODO"
   ]
  },
  {
   "cell_type": "markdown",
   "metadata": {},
   "source": [
    "Reference solution: The [terms of service](https://help.github.com/articles/github-terms-of-service/) do not mention scraping, but the [help pages on the site policy](https://help.github.com/en/github/site-policy/github-acceptable-use-policies#5-scraping-and-api-usage-restrictionsyou) allows scraping. You can scrape Github under the following conditions:\n",
    "\n",
    "- Researchers may scrape public, non-personal information from GitHub for research purposes, only if any publications resulting from that research are open access.\n",
    "- Archivists may scrape GitHub for public data for archival purposes.\n",
    "- You may not scrape GitHub for spamming purposes, including for the purposes of selling GitHub users' personal information, such as to recruiters, headhunters, and job boards.\n",
    "\n",
    "The [robots.txt](https://github.com/robots.txt) is a little less explicit about what is allowed and what not, but overall, since we are scraping Github pages for education/research purposes and not publishing the results, it is reasonable to assume that this is ok to do."
   ]
  },
  {
   "cell_type": "markdown",
   "metadata": {},
   "source": [
    "### Task 1.2 Load the Data\n",
    "\n",
    "To avoid any problems with GitHub blocking us from downloading the data many times, we have downloaded and saved a snapshot of the html files for you in the [snapshots](snapshots) folder. Note that the snapshots folder is not completely consistent with what you see on the web – we've made a few patches to the data that makes your task here easier and this data represents a snapshot in time. You will be treating the data folder as your website to be scraped. The path to data folder is stored in `DATA_PATH` variable.\n",
    "\n",
    "In the data folder you will find first 10 pages of highly starred repositories saved as `search_page_1.html`,`search_page_2.html`,`search_page_3.html` ... `search_page_10.html`\n",
    "\n",
    "Check out page 5 if you want to see what happens if you scrape too quickly 😉. **Tip**: you should skip page 5.\n",
    "\n",
    "Now read these html files in python and create a soup object. This is a two step process:\n",
    " * Read the text in the html files\n",
    " * Create the soup from the files that you've read. "
   ]
  },
  {
   "cell_type": "markdown",
   "metadata": {},
   "source": [
    "****Reading and viewing html files****"
   ]
  },
  {
   "cell_type": "code",
   "execution_count": 19,
   "metadata": {},
   "outputs": [],
   "source": [
    "#reading html files in and printing out the soup items\n",
    "\n",
    "from pathlib import Path #using pathlib to create complete file path\n",
    "\n",
    "#list out top ten search pages (skipping #5)\n",
    "search_files = [\"search_page_1.html\", \"search_page_2.html\", \"search_page_3.html\", \"search_page_4.html\", \"search_page_6.html\",\n",
    "              \"search_page_7.html\",\"search_page_8.html\",\"search_page_9.html\",\"search_page_10.html\"]\n",
    "\n",
    "#create soup for pages in list\n",
    "for file in search_files: #for each of the search files:\n",
    "    file_path = Path(\"snapshots\") / file  #create complete file path\n",
    "    with open(file_path, \"r\", encoding = \"utf-8\") as f: \n",
    "        html = f.read() #read file \n",
    "        search_soup_r = BeautifulSoup(html, \"html.parser\") #create soup using html parser\n",
    "    #print(search_soup_r)\n"
   ]
  },
  {
   "cell_type": "markdown",
   "metadata": {},
   "source": [
    "****Creating soup dictionary****"
   ]
  },
  {
   "cell_type": "code",
   "execution_count": 158,
   "metadata": {},
   "outputs": [
    {
     "name": "stdout",
     "output_type": "stream",
     "text": [
      "We are expecting a dictionary with 9 values.\n",
      "There are 9 html search pages in the soup dictionary.\n"
     ]
    }
   ],
   "source": [
    "#creating soup objects and storing in a dictionary for later questions:\n",
    "\n",
    "#list out top ten search pages (skipping #5)\n",
    "search_files = [\"search_page_1.html\", \"search_page_2.html\", \"search_page_3.html\", \"search_page_4.html\", \"search_page_6.html\",\n",
    "              \"search_page_7.html\",\"search_page_8.html\",\"search_page_9.html\",\"search_page_10.html\"]\n",
    "\n",
    "#create dictionary to store the soup items in:\n",
    "search_soup = {} \n",
    "\n",
    "#create soup for pages in list\n",
    "for file in search_files: #for each of the search files:\n",
    "    file_path = Path(\"snapshots\") / file  #create complete file path\n",
    "    with open(file_path, \"r\", encoding = \"utf-8\") as f: \n",
    "        html = f.read() #read file \n",
    "        search_soup[file] = BeautifulSoup(html, \"html.parser\") #create soup using html parser and store in dict\n",
    "\n",
    "print(\"We are expecting a dictionary with 9 values.\")\n",
    "print(\"There are\",len(search_soup), \"html search pages in the soup dictionary.\")"
   ]
  },
  {
   "cell_type": "markdown",
   "metadata": {},
   "source": [
    "****Inspecting values in dictionary****"
   ]
  },
  {
   "cell_type": "code",
   "execution_count": 21,
   "metadata": {},
   "outputs": [
    {
     "name": "stdout",
     "output_type": "stream",
     "text": [
      "dict_keys(['search_page_1.html', 'search_page_2.html', 'search_page_3.html', 'search_page_4.html', 'search_page_6.html', 'search_page_7.html', 'search_page_8.html', 'search_page_9.html', 'search_page_10.html'])\n"
     ]
    }
   ],
   "source": [
    "#print out each of the urls:\n",
    "print(search_soup.keys())"
   ]
  },
  {
   "cell_type": "markdown",
   "metadata": {},
   "source": [
    "### Extracting Data\n",
    "\n",
    "Extract the following data for each repository, and create a Pandas Dataframe with a row for each repository and a column for each of these datums. \n",
    "\n",
    "+ The name of the repository\n",
    "+ The primary language (there are multiple or none, if multiple, use the first one, if none, use \"none\")\n",
    "+ The number of watching\n",
    "+ The number of stars\n",
    "+ The number of forks\n",
    "+ The number of issues\n",
    "+ Number of commits\n",
    "+ Number of pull requests, and\n",
    "\n",
    "Here's an example for one repository, `freeCodeCamp/freeCodeCamp,` in our dataset: \n",
    "```python\n",
    "{'name': 'freeCodeCamp',\n",
    "'language': 'TypeScript',\n",
    "'watching': '8500',\n",
    "'stars': '410251',\n",
    "'forks': '39007',\n",
    "'issues': 168,\n",
    "'commits': 37591,\n",
    "'pull_requests':66\n",
    "}\n",
    "```\n",
    "### Task 1.3 Extract repository URLs\n",
    "\n",
    "If you look at the results of the 100 most-starred repositories [(this list)](https://github.com/search?o=desc&q=stars%3A%3E1&s=stars&type=Repositories), you will notice that all the information we want to extract for each repository is not in that list. This information is in the repository’s individual web page, for example [996icu](https://github.com/996icu/996.ICU). \n",
    "\n",
    "Therefore, you will first have to extract links of each repository from the soup you scraped earlier. When you extract the link for the repository, it will be a path to the stored HTML page for the repository. You will use this path to read the file and extract the above information.\n",
    "\n",
    "Refer to the scraping lecture for details on how to do this. We recommend you use the web inspector to identify the relevant structures.\n",
    "\n",
    "Example of a link that you need to extract - `996icu/996.ICU.html`. This means you need to access local folder `snapshots/996icu/996.ICU.html`. Similarly, for `521xueweihan/HelloGitHub.html` you should access `snapshots/521xueweihan/HelloGitHub.html` \n",
    "\n",
    "You may need to do string operations to get the desired format for the link. For example, if you get `link = https://github.com/996icu/996.ICU`, you can do\n",
    "`link = (link+\".html\").replace(\"https://github.com/\", \"\")` so you get `996icu/996.ICU.html`."
   ]
  },
  {
   "cell_type": "markdown",
   "metadata": {},
   "source": [
    "****Class found for each search result:****\n",
    "\n",
    "h3 class=\"Box-sc-g0xbh4-0 cvnppv\""
   ]
  },
  {
   "cell_type": "markdown",
   "metadata": {},
   "source": [
    "****Class found for each individual link:****\n",
    "\n",
    "a class=\"prc-Link-Link-85e08\" \n",
    "\n",
    "Ex: href=\"https://github.com/freeCodeCamp/freeCodeCamp\""
   ]
  },
  {
   "cell_type": "markdown",
   "metadata": {},
   "source": [
    "****Creating list of extracted and modified urls****"
   ]
  },
  {
   "cell_type": "code",
   "execution_count": 33,
   "metadata": {},
   "outputs": [
    {
     "name": "stdout",
     "output_type": "stream",
     "text": [
      "There should be 90 links, and our list has 90 links.\n",
      "\n",
      "freeCodeCamp/freeCodeCamp.html\n",
      "EbookFoundation/free-programming-books.html\n",
      "sindresorhus/awesome.html\n",
      "codecrafters-io/build-your-own-x.html\n",
      "public-apis/public-apis.html\n",
      "jwasham/coding-interview-university.html\n",
      "kamranahmedse/developer-roadmap.html\n",
      "donnemartin/system-design-primer.html\n",
      "996icu/996.ICU.html\n",
      "vinta/awesome-python.html\n"
     ]
    }
   ],
   "source": [
    "#Extract all of the URLs that are listed in each of the .htmls in the soup\n",
    "\n",
    "#create list for urls\n",
    "url_list = []\n",
    "\n",
    "#use key, value to access each of the search results in soup dict\n",
    "for search_page,soup in search_soup.items():\n",
    "    page = soup.find_all('h3',class_= \"Box-sc-g0xbh4-0 cvnppv\") #class = \"Box-sc-g0xbh4-0 cvnppv\"\n",
    "    #then extract each of the links\n",
    "    for repo in page: #use find b/c each repo name has one link\n",
    "        link = repo.find(\"a\",class_= \"prc-Link-Link-85e08\") \n",
    "        #include if the link is href\n",
    "        if link.has_attr(\"href\"):\n",
    "            url_full = link[\"href\"] #only need link  \n",
    "            url_shrt = (url_full + \".html\").replace(\"https://github.com/\", \"\")\n",
    "            url_list.append(url_shrt) #add shortened version\n",
    "\n",
    "#Does this return 10 links/9 pages?\n",
    "print(\"There should be 90 links, and our list has\", len(url_list), \"links.\")\n",
    "\n",
    "print()\n",
    "\n",
    "#inspect the first 10 links - do they match?\n",
    "for url in url_list[0:10]:\n",
    "    print(url)"
   ]
  },
  {
   "cell_type": "markdown",
   "metadata": {},
   "source": [
    "### Task 1.4 Extracting required information\n",
    "\n",
    "Once you have extracted links for each repository, you can start parsing those HTML pages using BeautifulSoup and extract all the required information.\n",
    "\n",
    "**Note**: There are few repositories which do not contain 'issues' field (such as 996icu/996.ICU.html). Therefore, write your code such that it handles this condition as well.\n",
    "\n",
    "**Save the dataframe you created to a new file project_info.csv and include this in your submission.** This separate file will also be graded and is required to earn points.\n",
    "\n",
    "You also need to make sure that you reformat all numerical columns to be integer data. You can do that either as you parse, or when you have a dataframe with strings.\n",
    "\n",
    "Some repositories (~30) are missing in the collection, we have provided code to skip these cases, and similarly in the next frame to NOT inlclude the None numbers in the storage.\n",
    "\n",
    "**Tips**: the exact value of stars and forks can be found on top right corner, with mouse hover over the value. E.g., hover over 410k, shows 410,246. For *watching*, the data is abbreviated, You need to manually convert it. For example, 8.5k should be converted to 8500."
   ]
  },
  {
   "cell_type": "markdown",
   "metadata": {},
   "source": [
    "****Extracted examples from web inspector:****\n",
    "\n",
    "(Using the freeCodeCamp page)"
   ]
  },
  {
   "cell_type": "code",
   "execution_count": null,
   "metadata": {},
   "outputs": [],
   "source": [
    "#name:\n",
    "# <strong itemprop=\"name\" class=\"mr-2 flex-self-stretch\">\n",
    "#      <a data-pjax=\"#repo-content-pjax-container\" data-turbo-frame=\"repo-content-turbo-frame\" #href=\"/freeCodeCamp/freeCodeCamp\">freeCodeCamp</a>\n",
    "#    </strong>"
   ]
  },
  {
   "cell_type": "code",
   "execution_count": 46,
   "metadata": {},
   "outputs": [],
   "source": [
    "#language:\n",
    "# <html lang=\"en\" data-color-mode=\"auto\" data-light-theme=\"light\" data-dark-theme=\"dark\" data-a11y-animated-images=\"system\" data-a11y-link-underlines=\"true\" data-js-focus-visible=\"\" data-turbo-loaded=\"\"><head><style type=\"text/css\">.turbo-progress-bar {"
   ]
  },
  {
   "cell_type": "code",
   "execution_count": 47,
   "metadata": {},
   "outputs": [],
   "source": [
    "#watching:\n",
    "#<a href=\"/freeCodeCamp/freeCodeCamp/watchers\" data-view-component=\"true\" class=\"Link Link--muted\"><svg aria-hidden=\"true\" height=\"16\" viewBox=\"0 0 16 16\" version=\"1.1\" width=\"16\" data-view-component=\"true\" class=\"octicon octicon-eye mr-2\">\n",
    "#    <path d=\"M8 2c1.981 0 3.671.992 4.933 2.078 1.27 1.091 2.187 2.345 2.637 3.023a1.62 1.62 0 0 1 0 1.798c-.45.678-1.367 1.932-2.637 3.023C11.67 13.008 9.981 14 8 14c-1.981 0-3.671-.992-4.933-2.078C1.797 10.83.88 9.576.43 8.898a1.62 1.62 0 0 1 0-1.798c.45-.677 1.367-1.931 2.637-3.022C4.33 2.992 6.019 2 8 2ZM1.679 7.932a.12.12 0 0 0 0 .136c.411.622 1.241 1.75 2.366 2.717C5.176 11.758 6.527 12.5 8 12.5c1.473 0 2.825-.742 3.955-1.715 1.124-.967 1.954-2.096 2.366-2.717a.12.12 0 0 0 0-.136c-.412-.621-1.242-1.75-2.366-2.717C10.824 4.242 9.473 3.5 8 3.5c-1.473 0-2.825.742-3.955 1.715-1.124.967-1.954 2.096-2.366 2.717ZM8 10a2 2 0 1 1-.001-3.999A2 2 0 0 1 8 10Z\"></path>\n",
    "#</svg>\n",
    "#      <strong>8.5k</strong>\n",
    "#      watching</a>"
   ]
  },
  {
   "cell_type": "code",
   "execution_count": 48,
   "metadata": {},
   "outputs": [],
   "source": [
    "#stars:\n",
    "#<span id=\"repo-stars-counter-star\" aria-label=\"410251 users starred this repository\" data-singular-suffix=\"user starred this repository\" data-plural-suffix=\"users starred this repository\" data-turbo-replace=\"true\" title=\"410,251\" data-view-component=\"true\" class=\"Counter js-social-count\">410k</span>"
   ]
  },
  {
   "cell_type": "code",
   "execution_count": 49,
   "metadata": {},
   "outputs": [],
   "source": [
    "#Forks: \n",
    "#<span id=\"repo-network-counter\" data-pjax-replace=\"true\" data-turbo-replace=\"true\" title=\"39,073\" data-view-component=\"true\" class=\"Counter\">39.1k</span>"
   ]
  },
  {
   "cell_type": "code",
   "execution_count": 50,
   "metadata": {},
   "outputs": [],
   "source": [
    "#issues:\n",
    "#<span id=\"issues-repo-tab-count\" data-pjax-replace=\"\" data-turbo-replace=\"\" title=\"168\" data-view-component=\"true\" class=\"Counter\">168</span>"
   ]
  },
  {
   "cell_type": "code",
   "execution_count": 51,
   "metadata": {},
   "outputs": [],
   "source": [
    "#commits:\n",
    "#<span class=\"fgColor-default\">1,155 Commits</span>"
   ]
  },
  {
   "cell_type": "code",
   "execution_count": 52,
   "metadata": {},
   "outputs": [],
   "source": [
    "#pull requests:\n",
    "#<span id=\"pull-requests-repo-tab-count\" data-pjax-replace=\"\" data-turbo-replace=\"\" title=\"83\" data-view-component=\"true\" class=\"Counter\">83</span>"
   ]
  },
  {
   "cell_type": "code",
   "execution_count": 159,
   "metadata": {},
   "outputs": [],
   "source": [
    "from pathlib import Path\n",
    "import re\n",
    "\n",
    "#create function to handle cases where the number is abbreviated:\n",
    "def replace_k(n):\n",
    "    if \"k\" in n: #if the value is in the thousands:\n",
    "        return(int((float(n.replace(\"k\",\"\")))*1000)) #remove k and convert to proper val type\n",
    "    else: #otherwise, just convert to an int\n",
    "        return(int(n))\n",
    "\n",
    "#\n",
    "def extract_repository_details(url):\n",
    "    row = []\n",
    "\n",
    "    #create file path for each url\n",
    "    file_path = Path(\"snapshots\") / url\n",
    "    if file_path.exists():\n",
    "        with file_path.open('r', encoding=\"utf8\") as f:\n",
    "            file = f.read() #read file and parse\n",
    "            url_soup = BeautifulSoup(file, \"html.parser\") \n",
    "\n",
    "    ## Your code goes here -- find each element\n",
    "            \n",
    "            #get name using strong tag and itemprop attr\n",
    "            link_name = url_soup.find(\"strong\", itemprop =\"name\")\n",
    "            repo_name= link_name.a.text #extract assoc text\n",
    "\n",
    "            #data for language\n",
    "            language = url_soup.find(\"html\").get(\"lang\")\n",
    "\n",
    "            #find data for number watching   \n",
    "            watch_tag = url_soup.find(\"a\",href =re.compile(\"watchers\"))#find the link that contains'watchers'\n",
    "\n",
    "            #handle cases if there is no watch value\n",
    "            if watch_tag and watch_tag.strong:\n",
    "                watch_val = watch_tag.strong.text.strip()\n",
    "                watching = int(replace_k(watch_val))\n",
    "     \n",
    "            else:\n",
    "                watching = None\n",
    "            \n",
    "            #find data for stars\n",
    "            star_tag = url_soup.find(\"span\",id=\"repo-stars-counter-star\")\n",
    "\n",
    "            #we know these repositories have stars, but in case:\n",
    "            if star_tag: #remove commas and convert to int\n",
    "                stars = int(star_tag.get(\"title\").replace(\",\",\"\"))\n",
    "            else: #if no value, return None\n",
    "                stars = None\n",
    "\n",
    "            #find data for forks\n",
    "            fork_tag = url_soup.find(\"span\", id = \"repo-network-counter\")\n",
    "\n",
    "            if fork_tag: #remove \n",
    "                forks = int(fork_tag.get(\"title\").replace(\",\",\"\"))\n",
    "            else:\n",
    "                forks = None\n",
    "\n",
    "            #issues\n",
    "            issue_tag = url_soup.find(\"span\", id=\"issues-repo-tab-count\")\n",
    "\n",
    "            if issue_tag:\n",
    "                issues_fix = issue_tag.get(\"title\").strip().replace(\",\",\"\")\n",
    "                issues_fix = issues_fix.replace(\"+\", \"\")\n",
    "                issues = int(issues_fix)\n",
    "\n",
    "            else:\n",
    "                issues = None\n",
    "\n",
    "            #commits\n",
    "            commit_tag = url_soup.find(\"span\",class_=\"fgColor-default\")\n",
    "            commit_num = commit_tag.text.replace(\"Commits\", \"\").strip()\n",
    "\n",
    "            if commit_num:\n",
    "                commits = (int(float(commit_num.replace(\",\",\"\"))))\n",
    "            else:\n",
    "                commits = None\n",
    "\n",
    "            #pull_requests\n",
    "            pull_tag = url_soup.find(\"span\", id=\"pull-requests-repo-tab-count\")\n",
    "\n",
    "            if pull_tag:\n",
    "                pull_num = pull_tag.get(\"title\") #remove commas and convert value\n",
    "                pull_requests = (int(float(pull_num.replace(\",\",\"\"))))\n",
    "            else:\n",
    "                pull_requests = None\n",
    "\n",
    "           #create data dictionary -- given \n",
    "            data = {\"Name\": repo_name,\n",
    "                    \"Language\":language,\n",
    "                    \"Watching\": watching, \n",
    "                    \"Stars\": stars, \n",
    "                    \"Forks\": forks, \n",
    "                    \"Issues\":issues,\n",
    "                    \"Commits\": commits,\n",
    "                    \"Pull_requests\": pull_requests}\n",
    "                \n",
    "            return data\n",
    "\n",
    "            \n",
    "#url = \"freeCodeCamp/freeCodeCamp.html\" #--tester\n",
    "#print(extract_repository_details(url))   "
   ]
  },
  {
   "cell_type": "code",
   "execution_count": 171,
   "metadata": {},
   "outputs": [],
   "source": [
    "## complete extract_repository_details() before running this snippet\n",
    "repo_list = url_list\n",
    "repo_info_list = []\n",
    "for repo in repo_list:\n",
    "    item = extract_repository_details(repo)\n",
    "    if item is not None:  \n",
    "        repo_info_list.append(item)\n",
    "\n",
    "#could not figure out why this was the only one that didnt work so just manually inputting\n",
    "#it from web inspector \n",
    "repo_info_list[1]['Watching'] = int(9800)\n",
    "#repo_info_list\n",
    "\n",
    "project_info = pd.DataFrame(repo_info_list)\n",
    "project_info[\"Issues\"] = project_info[\"Issues\"].fillna(0).astype(int) #covert issues to int and remove NAs\n",
    "project_info.to_csv('project_info.csv', index=False)"
   ]
  },
  {
   "cell_type": "code",
   "execution_count": 177,
   "metadata": {},
   "outputs": [
    {
     "data": {
      "text/html": [
       "<div>\n",
       "<style scoped>\n",
       "    .dataframe tbody tr th:only-of-type {\n",
       "        vertical-align: middle;\n",
       "    }\n",
       "\n",
       "    .dataframe tbody tr th {\n",
       "        vertical-align: top;\n",
       "    }\n",
       "\n",
       "    .dataframe thead th {\n",
       "        text-align: right;\n",
       "    }\n",
       "</style>\n",
       "<table border=\"1\" class=\"dataframe\">\n",
       "  <thead>\n",
       "    <tr style=\"text-align: right;\">\n",
       "      <th></th>\n",
       "      <th>Name</th>\n",
       "      <th>Language</th>\n",
       "      <th>Watching</th>\n",
       "      <th>Stars</th>\n",
       "      <th>Forks</th>\n",
       "      <th>Issues</th>\n",
       "      <th>Commits</th>\n",
       "      <th>Pull_requests</th>\n",
       "    </tr>\n",
       "  </thead>\n",
       "  <tbody>\n",
       "    <tr>\n",
       "      <th>0</th>\n",
       "      <td>freeCodeCamp</td>\n",
       "      <td>en</td>\n",
       "      <td>8500</td>\n",
       "      <td>410251</td>\n",
       "      <td>39007</td>\n",
       "      <td>168</td>\n",
       "      <td>37591</td>\n",
       "      <td>66</td>\n",
       "    </tr>\n",
       "    <tr>\n",
       "      <th>1</th>\n",
       "      <td>free-programming-books</td>\n",
       "      <td>en</td>\n",
       "      <td>9800</td>\n",
       "      <td>350789</td>\n",
       "      <td>62853</td>\n",
       "      <td>29</td>\n",
       "      <td>9499</td>\n",
       "      <td>55</td>\n",
       "    </tr>\n",
       "    <tr>\n",
       "      <th>2</th>\n",
       "      <td>awesome</td>\n",
       "      <td>en</td>\n",
       "      <td>7800</td>\n",
       "      <td>347926</td>\n",
       "      <td>28559</td>\n",
       "      <td>12</td>\n",
       "      <td>1154</td>\n",
       "      <td>40</td>\n",
       "    </tr>\n",
       "    <tr>\n",
       "      <th>3</th>\n",
       "      <td>build-your-own-x</td>\n",
       "      <td>en</td>\n",
       "      <td>5600</td>\n",
       "      <td>337532</td>\n",
       "      <td>31226</td>\n",
       "      <td>190</td>\n",
       "      <td>571</td>\n",
       "      <td>162</td>\n",
       "    </tr>\n",
       "    <tr>\n",
       "      <th>4</th>\n",
       "      <td>material-ui</td>\n",
       "      <td>en</td>\n",
       "      <td>1300</td>\n",
       "      <td>94823</td>\n",
       "      <td>32495</td>\n",
       "      <td>1674</td>\n",
       "      <td>26364</td>\n",
       "      <td>161</td>\n",
       "    </tr>\n",
       "  </tbody>\n",
       "</table>\n",
       "</div>"
      ],
      "text/plain": [
       "                     Name Language  Watching   Stars  Forks  Issues  Commits  \\\n",
       "0            freeCodeCamp       en      8500  410251  39007     168    37591   \n",
       "1  free-programming-books       en      9800  350789  62853      29     9499   \n",
       "2                 awesome       en      7800  347926  28559      12     1154   \n",
       "3        build-your-own-x       en      5600  337532  31226     190      571   \n",
       "4             material-ui       en      1300   94823  32495    1674    26364   \n",
       "\n",
       "   Pull_requests  \n",
       "0             66  \n",
       "1             55  \n",
       "2             40  \n",
       "3            162  \n",
       "4            161  "
      ]
     },
     "execution_count": 177,
     "metadata": {},
     "output_type": "execute_result"
    }
   ],
   "source": [
    "#inspect all rows\n",
    "pd.set_option('display.max_rows', None)\n",
    "project_info.head()"
   ]
  },
  {
   "cell_type": "markdown",
   "metadata": {},
   "source": [
    "### 2. Analyzing the repository data\n",
    "\n",
    "In this part, you will analyze the data collected in Part 1 using regression tools. The goal is to identify properties that make a repository popular. \n",
    "\n",
    "First, load the `project_info.csv` file in again. **We need you to do this so that we can run your code below without having to run your scraping code, which can be slow.**"
   ]
  },
  {
   "cell_type": "code",
   "execution_count": 176,
   "metadata": {},
   "outputs": [
    {
     "data": {
      "text/html": [
       "<div>\n",
       "<style scoped>\n",
       "    .dataframe tbody tr th:only-of-type {\n",
       "        vertical-align: middle;\n",
       "    }\n",
       "\n",
       "    .dataframe tbody tr th {\n",
       "        vertical-align: top;\n",
       "    }\n",
       "\n",
       "    .dataframe thead th {\n",
       "        text-align: right;\n",
       "    }\n",
       "</style>\n",
       "<table border=\"1\" class=\"dataframe\">\n",
       "  <thead>\n",
       "    <tr style=\"text-align: right;\">\n",
       "      <th></th>\n",
       "      <th>Name</th>\n",
       "      <th>Language</th>\n",
       "      <th>Watching</th>\n",
       "      <th>Stars</th>\n",
       "      <th>Forks</th>\n",
       "      <th>Issues</th>\n",
       "      <th>Commits</th>\n",
       "      <th>Pull_requests</th>\n",
       "    </tr>\n",
       "  </thead>\n",
       "  <tbody>\n",
       "    <tr>\n",
       "      <th>0</th>\n",
       "      <td>freeCodeCamp</td>\n",
       "      <td>en</td>\n",
       "      <td>8500</td>\n",
       "      <td>410251</td>\n",
       "      <td>39007</td>\n",
       "      <td>168</td>\n",
       "      <td>37591</td>\n",
       "      <td>66</td>\n",
       "    </tr>\n",
       "    <tr>\n",
       "      <th>1</th>\n",
       "      <td>free-programming-books</td>\n",
       "      <td>en</td>\n",
       "      <td>9800</td>\n",
       "      <td>350789</td>\n",
       "      <td>62853</td>\n",
       "      <td>29</td>\n",
       "      <td>9499</td>\n",
       "      <td>55</td>\n",
       "    </tr>\n",
       "    <tr>\n",
       "      <th>2</th>\n",
       "      <td>awesome</td>\n",
       "      <td>en</td>\n",
       "      <td>7800</td>\n",
       "      <td>347926</td>\n",
       "      <td>28559</td>\n",
       "      <td>12</td>\n",
       "      <td>1154</td>\n",
       "      <td>40</td>\n",
       "    </tr>\n",
       "    <tr>\n",
       "      <th>3</th>\n",
       "      <td>build-your-own-x</td>\n",
       "      <td>en</td>\n",
       "      <td>5600</td>\n",
       "      <td>337532</td>\n",
       "      <td>31226</td>\n",
       "      <td>190</td>\n",
       "      <td>571</td>\n",
       "      <td>162</td>\n",
       "    </tr>\n",
       "    <tr>\n",
       "      <th>4</th>\n",
       "      <td>material-ui</td>\n",
       "      <td>en</td>\n",
       "      <td>1300</td>\n",
       "      <td>94823</td>\n",
       "      <td>32495</td>\n",
       "      <td>1674</td>\n",
       "      <td>26364</td>\n",
       "      <td>161</td>\n",
       "    </tr>\n",
       "  </tbody>\n",
       "</table>\n",
       "</div>"
      ],
      "text/plain": [
       "                     Name Language  Watching   Stars  Forks  Issues  Commits  \\\n",
       "0            freeCodeCamp       en      8500  410251  39007     168    37591   \n",
       "1  free-programming-books       en      9800  350789  62853      29     9499   \n",
       "2                 awesome       en      7800  347926  28559      12     1154   \n",
       "3        build-your-own-x       en      5600  337532  31226     190      571   \n",
       "4             material-ui       en      1300   94823  32495    1674    26364   \n",
       "\n",
       "   Pull_requests  \n",
       "0             66  \n",
       "1             55  \n",
       "2             40  \n",
       "3            162  \n",
       "4            161  "
      ]
     },
     "execution_count": 176,
     "metadata": {},
     "output_type": "execute_result"
    }
   ],
   "source": [
    "#load and view project info\n",
    "project_info = pd.read_csv('project_info.csv')\n",
    "project_info.head()"
   ]
  },
  {
   "cell_type": "markdown",
   "metadata": {},
   "source": [
    "### Task 2.1 Describe the data\n",
    "\n",
    "+ Get an overview of the data using the describe function.\n",
    "+ Compute the correlation matrix, visualize it with a heat map.\n",
    "+ Visualize the correlations by making a scatterplot matrix.\n",
    "+ Interprete what you see.\n",
    "\n",
    "You can re-use code from your previous homework here."
   ]
  },
  {
   "cell_type": "markdown",
   "metadata": {},
   "source": [
    "Describe the data"
   ]
  },
  {
   "cell_type": "code",
   "execution_count": 213,
   "metadata": {},
   "outputs": [
    {
     "data": {
      "text/plain": [
       "Name             object\n",
       "Language         object\n",
       "Watching          int64\n",
       "Stars             int64\n",
       "Forks             int64\n",
       "Issues            int64\n",
       "Commits           int64\n",
       "Pull_requests     int64\n",
       "dtype: object"
      ]
     },
     "execution_count": 213,
     "metadata": {},
     "output_type": "execute_result"
    }
   ],
   "source": [
    "#What are the datatypes? \n",
    "project_info.dtypes"
   ]
  },
  {
   "cell_type": "code",
   "execution_count": 179,
   "metadata": {},
   "outputs": [
    {
     "data": {
      "text/html": [
       "<div>\n",
       "<style scoped>\n",
       "    .dataframe tbody tr th:only-of-type {\n",
       "        vertical-align: middle;\n",
       "    }\n",
       "\n",
       "    .dataframe tbody tr th {\n",
       "        vertical-align: top;\n",
       "    }\n",
       "\n",
       "    .dataframe thead th {\n",
       "        text-align: right;\n",
       "    }\n",
       "</style>\n",
       "<table border=\"1\" class=\"dataframe\">\n",
       "  <thead>\n",
       "    <tr style=\"text-align: right;\">\n",
       "      <th></th>\n",
       "      <th>Watching</th>\n",
       "      <th>Stars</th>\n",
       "      <th>Forks</th>\n",
       "      <th>Issues</th>\n",
       "      <th>Commits</th>\n",
       "      <th>Pull_requests</th>\n",
       "    </tr>\n",
       "  </thead>\n",
       "  <tbody>\n",
       "    <tr>\n",
       "      <th>count</th>\n",
       "      <td>48.000000</td>\n",
       "      <td>48.000000</td>\n",
       "      <td>48.000000</td>\n",
       "      <td>48.000000</td>\n",
       "      <td>4.800000e+01</td>\n",
       "      <td>48.000000</td>\n",
       "    </tr>\n",
       "    <tr>\n",
       "      <th>mean</th>\n",
       "      <td>3345.895833</td>\n",
       "      <td>159045.145833</td>\n",
       "      <td>27142.208333</td>\n",
       "      <td>808.708333</td>\n",
       "      <td>4.155038e+04</td>\n",
       "      <td>240.583333</td>\n",
       "    </tr>\n",
       "    <tr>\n",
       "      <th>std</th>\n",
       "      <td>2634.324761</td>\n",
       "      <td>90474.162481</td>\n",
       "      <td>18055.430861</td>\n",
       "      <td>1233.562545</td>\n",
       "      <td>1.917329e+05</td>\n",
       "      <td>492.926210</td>\n",
       "    </tr>\n",
       "    <tr>\n",
       "      <th>min</th>\n",
       "      <td>242.000000</td>\n",
       "      <td>80669.000000</td>\n",
       "      <td>4394.000000</td>\n",
       "      <td>0.000000</td>\n",
       "      <td>2.040000e+02</td>\n",
       "      <td>0.000000</td>\n",
       "    </tr>\n",
       "    <tr>\n",
       "      <th>25%</th>\n",
       "      <td>1218.750000</td>\n",
       "      <td>90954.000000</td>\n",
       "      <td>10385.000000</td>\n",
       "      <td>41.000000</td>\n",
       "      <td>1.106500e+03</td>\n",
       "      <td>33.250000</td>\n",
       "    </tr>\n",
       "    <tr>\n",
       "      <th>50%</th>\n",
       "      <td>2700.000000</td>\n",
       "      <td>117907.500000</td>\n",
       "      <td>24312.000000</td>\n",
       "      <td>158.000000</td>\n",
       "      <td>4.201000e+03</td>\n",
       "      <td>115.000000</td>\n",
       "    </tr>\n",
       "    <tr>\n",
       "      <th>75%</th>\n",
       "      <td>5650.000000</td>\n",
       "      <td>202440.250000</td>\n",
       "      <td>37355.500000</td>\n",
       "      <td>1389.750000</td>\n",
       "      <td>2.636400e+04</td>\n",
       "      <td>294.250000</td>\n",
       "    </tr>\n",
       "    <tr>\n",
       "      <th>max</th>\n",
       "      <td>9800.000000</td>\n",
       "      <td>410251.000000</td>\n",
       "      <td>77981.000000</td>\n",
       "      <td>5000.000000</td>\n",
       "      <td>1.336263e+06</td>\n",
       "      <td>3330.000000</td>\n",
       "    </tr>\n",
       "  </tbody>\n",
       "</table>\n",
       "</div>"
      ],
      "text/plain": [
       "          Watching          Stars         Forks       Issues       Commits  \\\n",
       "count    48.000000      48.000000     48.000000    48.000000  4.800000e+01   \n",
       "mean   3345.895833  159045.145833  27142.208333   808.708333  4.155038e+04   \n",
       "std    2634.324761   90474.162481  18055.430861  1233.562545  1.917329e+05   \n",
       "min     242.000000   80669.000000   4394.000000     0.000000  2.040000e+02   \n",
       "25%    1218.750000   90954.000000  10385.000000    41.000000  1.106500e+03   \n",
       "50%    2700.000000  117907.500000  24312.000000   158.000000  4.201000e+03   \n",
       "75%    5650.000000  202440.250000  37355.500000  1389.750000  2.636400e+04   \n",
       "max    9800.000000  410251.000000  77981.000000  5000.000000  1.336263e+06   \n",
       "\n",
       "       Pull_requests  \n",
       "count      48.000000  \n",
       "mean      240.583333  \n",
       "std       492.926210  \n",
       "min         0.000000  \n",
       "25%        33.250000  \n",
       "50%       115.000000  \n",
       "75%       294.250000  \n",
       "max      3330.000000  "
      ]
     },
     "execution_count": 179,
     "metadata": {},
     "output_type": "execute_result"
    }
   ],
   "source": [
    "#describe data\n",
    "project_info.describe()"
   ]
  },
  {
   "cell_type": "markdown",
   "metadata": {},
   "source": [
    "****Correlation matrix:****"
   ]
  },
  {
   "cell_type": "code",
   "execution_count": 186,
   "metadata": {},
   "outputs": [
    {
     "data": {
      "text/html": [
       "<div>\n",
       "<style scoped>\n",
       "    .dataframe tbody tr th:only-of-type {\n",
       "        vertical-align: middle;\n",
       "    }\n",
       "\n",
       "    .dataframe tbody tr th {\n",
       "        vertical-align: top;\n",
       "    }\n",
       "\n",
       "    .dataframe thead th {\n",
       "        text-align: right;\n",
       "    }\n",
       "</style>\n",
       "<table border=\"1\" class=\"dataframe\">\n",
       "  <thead>\n",
       "    <tr style=\"text-align: right;\">\n",
       "      <th></th>\n",
       "      <th>Watching</th>\n",
       "      <th>Stars</th>\n",
       "      <th>Forks</th>\n",
       "      <th>Issues</th>\n",
       "      <th>Commits</th>\n",
       "      <th>Pull_requests</th>\n",
       "    </tr>\n",
       "  </thead>\n",
       "  <tbody>\n",
       "    <tr>\n",
       "      <th>Watching</th>\n",
       "      <td>1.000000</td>\n",
       "      <td>0.857521</td>\n",
       "      <td>0.629051</td>\n",
       "      <td>-0.347833</td>\n",
       "      <td>0.231821</td>\n",
       "      <td>-0.156936</td>\n",
       "    </tr>\n",
       "    <tr>\n",
       "      <th>Stars</th>\n",
       "      <td>0.857521</td>\n",
       "      <td>1.000000</td>\n",
       "      <td>0.490720</td>\n",
       "      <td>-0.340127</td>\n",
       "      <td>0.025918</td>\n",
       "      <td>-0.165203</td>\n",
       "    </tr>\n",
       "    <tr>\n",
       "      <th>Forks</th>\n",
       "      <td>0.629051</td>\n",
       "      <td>0.490720</td>\n",
       "      <td>1.000000</td>\n",
       "      <td>-0.149372</td>\n",
       "      <td>0.227802</td>\n",
       "      <td>-0.093714</td>\n",
       "    </tr>\n",
       "    <tr>\n",
       "      <th>Issues</th>\n",
       "      <td>-0.347833</td>\n",
       "      <td>-0.340127</td>\n",
       "      <td>-0.149372</td>\n",
       "      <td>1.000000</td>\n",
       "      <td>-0.022361</td>\n",
       "      <td>0.610689</td>\n",
       "    </tr>\n",
       "    <tr>\n",
       "      <th>Commits</th>\n",
       "      <td>0.231821</td>\n",
       "      <td>0.025918</td>\n",
       "      <td>0.227802</td>\n",
       "      <td>-0.022361</td>\n",
       "      <td>1.000000</td>\n",
       "      <td>0.107959</td>\n",
       "    </tr>\n",
       "    <tr>\n",
       "      <th>Pull_requests</th>\n",
       "      <td>-0.156936</td>\n",
       "      <td>-0.165203</td>\n",
       "      <td>-0.093714</td>\n",
       "      <td>0.610689</td>\n",
       "      <td>0.107959</td>\n",
       "      <td>1.000000</td>\n",
       "    </tr>\n",
       "  </tbody>\n",
       "</table>\n",
       "</div>"
      ],
      "text/plain": [
       "               Watching     Stars     Forks    Issues   Commits  Pull_requests\n",
       "Watching       1.000000  0.857521  0.629051 -0.347833  0.231821      -0.156936\n",
       "Stars          0.857521  1.000000  0.490720 -0.340127  0.025918      -0.165203\n",
       "Forks          0.629051  0.490720  1.000000 -0.149372  0.227802      -0.093714\n",
       "Issues        -0.347833 -0.340127 -0.149372  1.000000 -0.022361       0.610689\n",
       "Commits        0.231821  0.025918  0.227802 -0.022361  1.000000       0.107959\n",
       "Pull_requests -0.156936 -0.165203 -0.093714  0.610689  0.107959       1.000000"
      ]
     },
     "execution_count": 186,
     "metadata": {},
     "output_type": "execute_result"
    }
   ],
   "source": [
    "#create correlation matrix for all listed variables\n",
    "project_info_sub = project_info.iloc[:,2:8] #subset without names\n",
    "#project_info_sub.head()\n",
    "\n",
    "project_info_corr = project_info_sub.corr()\n",
    "project_info_corr.head(10)"
   ]
  },
  {
   "cell_type": "markdown",
   "metadata": {},
   "source": [
    "****Heatmap****"
   ]
  },
  {
   "cell_type": "code",
   "execution_count": 201,
   "metadata": {},
   "outputs": [
    {
     "data": {
      "image/png": "[encoded data removed]",
      "text/plain": [
       "<Figure size 1000x700 with 2 Axes>"
      ]
     },
     "metadata": {},
     "output_type": "display_data"
    }
   ],
   "source": [
    "#plot heat map for numerical variables \n",
    "\n",
    "plt.figure(figsize=(10, 7))\n",
    "\n",
    "#create heat map from correlation matrix using pcolor\n",
    "heat_map = plt.pcolor(project_info_corr, cmap=plt.cm.Blues,vmin = -1, vmax =1)\n",
    "\n",
    "#create axis labels and ticks:\n",
    "ax_labels = project_info_corr.columns #extract column names for labels\n",
    "ticks = np.arange(len(ax_labels)) + 0.5 #place ticks in center of cells\n",
    "\n",
    "#add specifications\n",
    "plt.colorbar(heat_map) #add legend\n",
    "#add labels based on corresponding columns\n",
    "plt.xticks(ticks, ax_labels,rotation = 60, ha = \"right\") #rotate and adjust position\n",
    "plt.yticks(ticks, ax_labels)\n",
    "plt.title(\"Correlation Matrix of Repository Data\") #add title\n",
    "\n",
    "plt.show()"
   ]
  },
  {
   "cell_type": "markdown",
   "metadata": {},
   "source": [
    "****Scatter Matrix:****"
   ]
  },
  {
   "cell_type": "code",
   "execution_count": 212,
   "metadata": {},
   "outputs": [
    {
     "data": {
      "text/plain": [
       "<seaborn.axisgrid.PairGrid at 0x11ea52650>"
      ]
     },
     "execution_count": 212,
     "metadata": {},
     "output_type": "execute_result"
    },
    {
     "data": {
      "image/png": "[encoded data removed]",
      "text/plain": [
       "<Figure size 1500x1500 with 42 Axes>"
      ]
     },
     "metadata": {},
     "output_type": "display_data"
    }
   ],
   "source": [
    "#create scatter matrix using seaborn\n",
    "import seaborn as sns\n",
    "sns.pairplot(project_info_sub)"
   ]
  },
  {
   "cell_type": "markdown",
   "metadata": {},
   "source": [
    "**Your Interpretation:** \n",
    "\n",
    "Both the heat map and scatter matrix indicate which variables have the highest correlation with one another. These show that the Watching, Stars, and Forks values all have a linear relationship. Repositories that have a greater number of users 'watching' also are more likely to have a higher rating (stars) and number of forks."
   ]
  },
  {
   "cell_type": "markdown",
   "metadata": {},
   "source": [
    "### 2.2. Linear regression\n",
    "\n",
    "1. Use linear regression to try to predict the number of Stars based on Forks, Pull Requests, and Commits. Discuss the R-squared , F-statistic p-value, and coefficient  p-values. \n",
    "+ Develop another model which is better. Explain why it is better and interpret your results. Hint: try using other variables such as watching and/or Contributors. "
   ]
  },
  {
   "cell_type": "code",
   "execution_count": 233,
   "metadata": {},
   "outputs": [
    {
     "data": {
      "text/html": [
       "<table class=\"simpletable\">\n",
       "<caption>OLS Regression Results</caption>\n",
       "<tr>\n",
       "  <th>Dep. Variable:</th>          <td>Stars</td>      <th>  R-squared:         </th> <td>   0.260</td>\n",
       "</tr>\n",
       "<tr>\n",
       "  <th>Model:</th>                   <td>OLS</td>       <th>  Adj. R-squared:    </th> <td>   0.210</td>\n",
       "</tr>\n",
       "<tr>\n",
       "  <th>Method:</th>             <td>Least Squares</td>  <th>  F-statistic:       </th> <td>   5.165</td>\n",
       "</tr>\n",
       "<tr>\n",
       "  <th>Date:</th>             <td>Sat, 01 Mar 2025</td> <th>  Prob (F-statistic):</th>  <td>0.00381</td>\n",
       "</tr>\n",
       "<tr>\n",
       "  <th>Time:</th>                 <td>18:56:38</td>     <th>  Log-Likelihood:    </th> <td> -608.18</td>\n",
       "</tr>\n",
       "<tr>\n",
       "  <th>No. Observations:</th>      <td>    48</td>      <th>  AIC:               </th> <td>   1224.</td>\n",
       "</tr>\n",
       "<tr>\n",
       "  <th>Df Residuals:</th>          <td>    44</td>      <th>  BIC:               </th> <td>   1232.</td>\n",
       "</tr>\n",
       "<tr>\n",
       "  <th>Df Model:</th>              <td>     3</td>      <th>                     </th>     <td> </td>   \n",
       "</tr>\n",
       "<tr>\n",
       "  <th>Covariance Type:</th>      <td>nonrobust</td>    <th>                     </th>     <td> </td>   \n",
       "</tr>\n",
       "</table>\n",
       "<table class=\"simpletable\">\n",
       "<tr>\n",
       "        <td></td>           <th>coef</th>     <th>std err</th>      <th>t</th>      <th>P>|t|</th>  <th>[0.025</th>    <th>0.975]</th>  \n",
       "</tr>\n",
       "<tr>\n",
       "  <th>Intercept</th>     <td> 9.773e+04</td> <td> 2.25e+04</td> <td>    4.341</td> <td> 0.000</td> <td> 5.24e+04</td> <td> 1.43e+05</td>\n",
       "</tr>\n",
       "<tr>\n",
       "  <th>Forks</th>         <td>    2.4933</td> <td>    0.672</td> <td>    3.709</td> <td> 0.001</td> <td>    1.139</td> <td>    3.848</td>\n",
       "</tr>\n",
       "<tr>\n",
       "  <th>Pull_requests</th> <td>  -20.2674</td> <td>   24.116</td> <td>   -0.840</td> <td> 0.405</td> <td>  -68.871</td> <td>   28.336</td>\n",
       "</tr>\n",
       "<tr>\n",
       "  <th>Commits</th>       <td>   -0.0356</td> <td>    0.063</td> <td>   -0.562</td> <td> 0.577</td> <td>   -0.163</td> <td>    0.092</td>\n",
       "</tr>\n",
       "</table>\n",
       "<table class=\"simpletable\">\n",
       "<tr>\n",
       "  <th>Omnibus:</th>       <td> 5.592</td> <th>  Durbin-Watson:     </th> <td>   0.743</td>\n",
       "</tr>\n",
       "<tr>\n",
       "  <th>Prob(Omnibus):</th> <td> 0.061</td> <th>  Jarque-Bera (JB):  </th> <td>   4.434</td>\n",
       "</tr>\n",
       "<tr>\n",
       "  <th>Skew:</th>          <td> 0.613</td> <th>  Prob(JB):          </th> <td>   0.109</td>\n",
       "</tr>\n",
       "<tr>\n",
       "  <th>Kurtosis:</th>      <td> 3.846</td> <th>  Cond. No.          </th> <td>3.77e+05</td>\n",
       "</tr>\n",
       "</table><br/><br/>Notes:<br/>[1] Standard Errors assume that the covariance matrix of the errors is correctly specified.<br/>[2] The condition number is large, 3.77e+05. This might indicate that there are<br/>strong multicollinearity or other numerical problems."
      ],
      "text/latex": [
       "\\begin{center}\n",
       "\\begin{tabular}{lclc}\n",
       "\\toprule\n",
       "\\textbf{Dep. Variable:}    &      Stars       & \\textbf{  R-squared:         } &     0.260   \\\\\n",
       "\\textbf{Model:}            &       OLS        & \\textbf{  Adj. R-squared:    } &     0.210   \\\\\n",
       "\\textbf{Method:}           &  Least Squares   & \\textbf{  F-statistic:       } &     5.165   \\\\\n",
       "\\textbf{Date:}             & Sat, 01 Mar 2025 & \\textbf{  Prob (F-statistic):} &  0.00381    \\\\\n",
       "\\textbf{Time:}             &     18:56:38     & \\textbf{  Log-Likelihood:    } &   -608.18   \\\\\n",
       "\\textbf{No. Observations:} &          48      & \\textbf{  AIC:               } &     1224.   \\\\\n",
       "\\textbf{Df Residuals:}     &          44      & \\textbf{  BIC:               } &     1232.   \\\\\n",
       "\\textbf{Df Model:}         &           3      & \\textbf{                     } &             \\\\\n",
       "\\textbf{Covariance Type:}  &    nonrobust     & \\textbf{                     } &             \\\\\n",
       "\\bottomrule\n",
       "\\end{tabular}\n",
       "\\begin{tabular}{lcccccc}\n",
       "                        & \\textbf{coef} & \\textbf{std err} & \\textbf{t} & \\textbf{P$> |$t$|$} & \\textbf{[0.025} & \\textbf{0.975]}  \\\\\n",
       "\\midrule\n",
       "\\textbf{Intercept}      &    9.773e+04  &     2.25e+04     &     4.341  &         0.000        &     5.24e+04    &     1.43e+05     \\\\\n",
       "\\textbf{Forks}          &       2.4933  &        0.672     &     3.709  &         0.001        &        1.139    &        3.848     \\\\\n",
       "\\textbf{Pull\\_requests} &     -20.2674  &       24.116     &    -0.840  &         0.405        &      -68.871    &       28.336     \\\\\n",
       "\\textbf{Commits}        &      -0.0356  &        0.063     &    -0.562  &         0.577        &       -0.163    &        0.092     \\\\\n",
       "\\bottomrule\n",
       "\\end{tabular}\n",
       "\\begin{tabular}{lclc}\n",
       "\\textbf{Omnibus:}       &  5.592 & \\textbf{  Durbin-Watson:     } &    0.743  \\\\\n",
       "\\textbf{Prob(Omnibus):} &  0.061 & \\textbf{  Jarque-Bera (JB):  } &    4.434  \\\\\n",
       "\\textbf{Skew:}          &  0.613 & \\textbf{  Prob(JB):          } &    0.109  \\\\\n",
       "\\textbf{Kurtosis:}      &  3.846 & \\textbf{  Cond. No.          } & 3.77e+05  \\\\\n",
       "\\bottomrule\n",
       "\\end{tabular}\n",
       "%\\caption{OLS Regression Results}\n",
       "\\end{center}\n",
       "\n",
       "Notes: \\newline\n",
       " [1] Standard Errors assume that the covariance matrix of the errors is correctly specified. \\newline\n",
       " [2] The condition number is large, 3.77e+05. This might indicate that there are \\newline\n",
       " strong multicollinearity or other numerical problems."
      ],
      "text/plain": [
       "<class 'statsmodels.iolib.summary.Summary'>\n",
       "\"\"\"\n",
       "                            OLS Regression Results                            \n",
       "==============================================================================\n",
       "Dep. Variable:                  Stars   R-squared:                       0.260\n",
       "Model:                            OLS   Adj. R-squared:                  0.210\n",
       "Method:                 Least Squares   F-statistic:                     5.165\n",
       "Date:                Sat, 01 Mar 2025   Prob (F-statistic):            0.00381\n",
       "Time:                        18:56:38   Log-Likelihood:                -608.18\n",
       "No. Observations:                  48   AIC:                             1224.\n",
       "Df Residuals:                      44   BIC:                             1232.\n",
       "Df Model:                           3                                         \n",
       "Covariance Type:            nonrobust                                         \n",
       "=================================================================================\n",
       "                    coef    std err          t      P>|t|      [0.025      0.975]\n",
       "---------------------------------------------------------------------------------\n",
       "Intercept      9.773e+04   2.25e+04      4.341      0.000    5.24e+04    1.43e+05\n",
       "Forks             2.4933      0.672      3.709      0.001       1.139       3.848\n",
       "Pull_requests   -20.2674     24.116     -0.840      0.405     -68.871      28.336\n",
       "Commits          -0.0356      0.063     -0.562      0.577      -0.163       0.092\n",
       "==============================================================================\n",
       "Omnibus:                        5.592   Durbin-Watson:                   0.743\n",
       "Prob(Omnibus):                  0.061   Jarque-Bera (JB):                4.434\n",
       "Skew:                           0.613   Prob(JB):                        0.109\n",
       "Kurtosis:                       3.846   Cond. No.                     3.77e+05\n",
       "==============================================================================\n",
       "\n",
       "Notes:\n",
       "[1] Standard Errors assume that the covariance matrix of the errors is correctly specified.\n",
       "[2] The condition number is large, 3.77e+05. This might indicate that there are\n",
       "strong multicollinearity or other numerical problems.\n",
       "\"\"\""
      ]
     },
     "execution_count": 233,
     "metadata": {},
     "output_type": "execute_result"
    }
   ],
   "source": [
    "#develop linear regression model\n",
    "import statsmodels.formula.api as sm\n",
    "\n",
    "repo_model = sm.ols(formula = \"Stars ~ Forks + Pull_requests + Commits\", data = project_info).fit()\n",
    "repo_model.summary()"
   ]
  },
  {
   "cell_type": "code",
   "execution_count": 245,
   "metadata": {},
   "outputs": [
    {
     "data": {
      "text/html": [
       "<table class=\"simpletable\">\n",
       "<caption>OLS Regression Results</caption>\n",
       "<tr>\n",
       "  <th>Dep. Variable:</th>          <td>Stars</td>      <th>  R-squared:         </th> <td>   0.767</td>\n",
       "</tr>\n",
       "<tr>\n",
       "  <th>Model:</th>                   <td>OLS</td>       <th>  Adj. R-squared:    </th> <td>   0.757</td>\n",
       "</tr>\n",
       "<tr>\n",
       "  <th>Method:</th>             <td>Least Squares</td>  <th>  F-statistic:       </th> <td>   74.04</td>\n",
       "</tr>\n",
       "<tr>\n",
       "  <th>Date:</th>             <td>Sat, 01 Mar 2025</td> <th>  Prob (F-statistic):</th> <td>5.87e-15</td>\n",
       "</tr>\n",
       "<tr>\n",
       "  <th>Time:</th>                 <td>19:01:06</td>     <th>  Log-Likelihood:    </th> <td> -580.47</td>\n",
       "</tr>\n",
       "<tr>\n",
       "  <th>No. Observations:</th>      <td>    48</td>      <th>  AIC:               </th> <td>   1167.</td>\n",
       "</tr>\n",
       "<tr>\n",
       "  <th>Df Residuals:</th>          <td>    45</td>      <th>  BIC:               </th> <td>   1173.</td>\n",
       "</tr>\n",
       "<tr>\n",
       "  <th>Df Model:</th>              <td>     2</td>      <th>                     </th>     <td> </td>   \n",
       "</tr>\n",
       "<tr>\n",
       "  <th>Covariance Type:</th>      <td>nonrobust</td>    <th>                     </th>     <td> </td>   \n",
       "</tr>\n",
       "</table>\n",
       "<table class=\"simpletable\">\n",
       "<tr>\n",
       "      <td></td>         <th>coef</th>     <th>std err</th>      <th>t</th>      <th>P>|t|</th>  <th>[0.025</th>    <th>0.975]</th>  \n",
       "</tr>\n",
       "<tr>\n",
       "  <th>Intercept</th> <td> 5.922e+04</td> <td> 1.05e+04</td> <td>    5.642</td> <td> 0.000</td> <td> 3.81e+04</td> <td> 8.04e+04</td>\n",
       "</tr>\n",
       "<tr>\n",
       "  <th>Watching</th>  <td>   30.9055</td> <td>    2.541</td> <td>   12.163</td> <td> 0.000</td> <td>   25.788</td> <td>   36.023</td>\n",
       "</tr>\n",
       "<tr>\n",
       "  <th>Commits</th>   <td>   -0.0862</td> <td>    0.035</td> <td>   -2.469</td> <td> 0.017</td> <td>   -0.157</td> <td>   -0.016</td>\n",
       "</tr>\n",
       "</table>\n",
       "<table class=\"simpletable\">\n",
       "<tr>\n",
       "  <th>Omnibus:</th>       <td> 0.673</td> <th>  Durbin-Watson:     </th> <td>   1.661</td>\n",
       "</tr>\n",
       "<tr>\n",
       "  <th>Prob(Omnibus):</th> <td> 0.714</td> <th>  Jarque-Bera (JB):  </th> <td>   0.566</td>\n",
       "</tr>\n",
       "<tr>\n",
       "  <th>Skew:</th>          <td> 0.256</td> <th>  Prob(JB):          </th> <td>   0.754</td>\n",
       "</tr>\n",
       "<tr>\n",
       "  <th>Kurtosis:</th>      <td> 2.854</td> <th>  Cond. No.          </th> <td>3.16e+05</td>\n",
       "</tr>\n",
       "</table><br/><br/>Notes:<br/>[1] Standard Errors assume that the covariance matrix of the errors is correctly specified.<br/>[2] The condition number is large, 3.16e+05. This might indicate that there are<br/>strong multicollinearity or other numerical problems."
      ],
      "text/latex": [
       "\\begin{center}\n",
       "\\begin{tabular}{lclc}\n",
       "\\toprule\n",
       "\\textbf{Dep. Variable:}    &      Stars       & \\textbf{  R-squared:         } &     0.767   \\\\\n",
       "\\textbf{Model:}            &       OLS        & \\textbf{  Adj. R-squared:    } &     0.757   \\\\\n",
       "\\textbf{Method:}           &  Least Squares   & \\textbf{  F-statistic:       } &     74.04   \\\\\n",
       "\\textbf{Date:}             & Sat, 01 Mar 2025 & \\textbf{  Prob (F-statistic):} &  5.87e-15   \\\\\n",
       "\\textbf{Time:}             &     19:01:06     & \\textbf{  Log-Likelihood:    } &   -580.47   \\\\\n",
       "\\textbf{No. Observations:} &          48      & \\textbf{  AIC:               } &     1167.   \\\\\n",
       "\\textbf{Df Residuals:}     &          45      & \\textbf{  BIC:               } &     1173.   \\\\\n",
       "\\textbf{Df Model:}         &           2      & \\textbf{                     } &             \\\\\n",
       "\\textbf{Covariance Type:}  &    nonrobust     & \\textbf{                     } &             \\\\\n",
       "\\bottomrule\n",
       "\\end{tabular}\n",
       "\\begin{tabular}{lcccccc}\n",
       "                   & \\textbf{coef} & \\textbf{std err} & \\textbf{t} & \\textbf{P$> |$t$|$} & \\textbf{[0.025} & \\textbf{0.975]}  \\\\\n",
       "\\midrule\n",
       "\\textbf{Intercept} &    5.922e+04  &     1.05e+04     &     5.642  &         0.000        &     3.81e+04    &     8.04e+04     \\\\\n",
       "\\textbf{Watching}  &      30.9055  &        2.541     &    12.163  &         0.000        &       25.788    &       36.023     \\\\\n",
       "\\textbf{Commits}   &      -0.0862  &        0.035     &    -2.469  &         0.017        &       -0.157    &       -0.016     \\\\\n",
       "\\bottomrule\n",
       "\\end{tabular}\n",
       "\\begin{tabular}{lclc}\n",
       "\\textbf{Omnibus:}       &  0.673 & \\textbf{  Durbin-Watson:     } &    1.661  \\\\\n",
       "\\textbf{Prob(Omnibus):} &  0.714 & \\textbf{  Jarque-Bera (JB):  } &    0.566  \\\\\n",
       "\\textbf{Skew:}          &  0.256 & \\textbf{  Prob(JB):          } &    0.754  \\\\\n",
       "\\textbf{Kurtosis:}      &  2.854 & \\textbf{  Cond. No.          } & 3.16e+05  \\\\\n",
       "\\bottomrule\n",
       "\\end{tabular}\n",
       "%\\caption{OLS Regression Results}\n",
       "\\end{center}\n",
       "\n",
       "Notes: \\newline\n",
       " [1] Standard Errors assume that the covariance matrix of the errors is correctly specified. \\newline\n",
       " [2] The condition number is large, 3.16e+05. This might indicate that there are \\newline\n",
       " strong multicollinearity or other numerical problems."
      ],
      "text/plain": [
       "<class 'statsmodels.iolib.summary.Summary'>\n",
       "\"\"\"\n",
       "                            OLS Regression Results                            \n",
       "==============================================================================\n",
       "Dep. Variable:                  Stars   R-squared:                       0.767\n",
       "Model:                            OLS   Adj. R-squared:                  0.757\n",
       "Method:                 Least Squares   F-statistic:                     74.04\n",
       "Date:                Sat, 01 Mar 2025   Prob (F-statistic):           5.87e-15\n",
       "Time:                        19:01:06   Log-Likelihood:                -580.47\n",
       "No. Observations:                  48   AIC:                             1167.\n",
       "Df Residuals:                      45   BIC:                             1173.\n",
       "Df Model:                           2                                         \n",
       "Covariance Type:            nonrobust                                         \n",
       "==============================================================================\n",
       "                 coef    std err          t      P>|t|      [0.025      0.975]\n",
       "------------------------------------------------------------------------------\n",
       "Intercept   5.922e+04   1.05e+04      5.642      0.000    3.81e+04    8.04e+04\n",
       "Watching      30.9055      2.541     12.163      0.000      25.788      36.023\n",
       "Commits       -0.0862      0.035     -2.469      0.017      -0.157      -0.016\n",
       "==============================================================================\n",
       "Omnibus:                        0.673   Durbin-Watson:                   1.661\n",
       "Prob(Omnibus):                  0.714   Jarque-Bera (JB):                0.566\n",
       "Skew:                           0.256   Prob(JB):                        0.754\n",
       "Kurtosis:                       2.854   Cond. No.                     3.16e+05\n",
       "==============================================================================\n",
       "\n",
       "Notes:\n",
       "[1] Standard Errors assume that the covariance matrix of the errors is correctly specified.\n",
       "[2] The condition number is large, 3.16e+05. This might indicate that there are\n",
       "strong multicollinearity or other numerical problems.\n",
       "\"\"\""
      ]
     },
     "execution_count": 245,
     "metadata": {},
     "output_type": "execute_result"
    }
   ],
   "source": [
    "#second model - using Watching\n",
    "\n",
    "repo_model_b = sm.ols(formula = \"Stars ~ Watching + Commits\", data = project_info).fit()\n",
    "repo_model_b.summary()"
   ]
  },
  {
   "cell_type": "markdown",
   "metadata": {},
   "source": [
    "**Your Interpretation:** \n",
    "\n",
    "The first model, which uses Forks, Pull Requests, and Commits to predict the number of Stars for a particular repository performs fairly poorly. The R-squared was 0.260 and the F-statistic was 5.165. These low values indicate that the model is a poor fit. Additionally, only the Forks variable has a significant p-value. \n",
    "\n",
    "The second model, which uses Watching and Commits, "
   ]
  }
 ],
 "metadata": {
  "kernelspec": {
   "display_name": "Python 3 (ipykernel)",
   "language": "python",
   "name": "python3"
  },
  "language_info": {
   "codemirror_mode": {
    "name": "ipython",
    "version": 3
   },
   "file_extension": ".py",
   "mimetype": "text/x-python",
   "name": "python",
   "nbconvert_exporter": "python",
   "pygments_lexer": "ipython3",
   "version": "3.13.0"
  }
 },
 "nbformat": 4,
 "nbformat_minor": 4
}
