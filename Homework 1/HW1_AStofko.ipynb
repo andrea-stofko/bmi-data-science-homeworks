{
 "cells": [
  {
   "cell_type": "markdown",
   "metadata": {
    "id": "MH6d4w6M9Ven"
   },
   "source": [
    "# Introduction to Data Science 2025 – Homework 1\n",
    "*COMP 5360 / MATH 4100, University of Utah, http://datasciencecourse.net/*\n",
    "\n",
    "Due: Friday, January 17, 11:59pm.\n",
    "\n",
    "This homework is designed to practice the skills we learned through Lecture 3: working with loops, conditionals, functions, and the built-in Python data structures. Please review the lectures to aid you.\n",
    "\n",
    "Please avoid the use of online aids (e.g., generative AI) to solve the problems for you. You may always search online to understand how a function works or look up what an error message means. The idea is to **practice basic Python skills** so you are **prepared to debug problems** when online tools have difficulty later in the course. This is like doing addition and subtraction examples by hand when learning *before* learning how to do more advanced problems with calculations.\n",
    "\n",
    "**Note:** You are allowed to use built-in Python functions such as `len` and `range` etc. However, do **NOT** use functions that will solve the exercise entirely such as `reverse` to reverse a list or `sum` to sum a list.\n",
    "\n",
    "**Note:** You may **NOT** use higher-level library functions but should implement everything using functions, loops, and conditionals."
   ]
  },
  {
   "cell_type": "markdown",
   "metadata": {
    "id": "Rl_mJZqA9Vep"
   },
   "source": [
    "## Your Data\n",
    "Fill out the following information: \n",
    "\n",
    "*First Name:* Andrea  \n",
    "*Last Name:* Stofko\n",
    "*E-mail:* andrea.stofko@utah.edu\n",
    "*UID:* u6040357\n"
   ]
  },
  {
   "cell_type": "markdown",
   "metadata": {},
   "source": [
    "### >>> For each problem below, add at least one of your own example test cases <<<\n",
    "\n",
    "Note, we may also include test cases beyond the samples within this notebook."
   ]
  },
  {
   "cell_type": "markdown",
   "metadata": {
    "id": "Ji-nFi-99Ver"
   },
   "source": [
    "## Problem 1: Count Odds\n",
    "\n",
    "Write a function that returns how many odd numbers there are in a list. You can assume the list will contain only numbers."
   ]
  },
  {
   "cell_type": "code",
   "execution_count": 478,
   "metadata": {
    "id": "wr1jIaP59Ves"
   },
   "outputs": [],
   "source": [
    "# create count_odds function\n",
    "def count_odds(x): #define function\n",
    "    odds = [] #create empty list\n",
    "    for i in x: #for each value in list\n",
    "        if i % 2 != 0: #check if int is odd or even\n",
    "            odds.append(i) #add to list if odd\n",
    "        else:\n",
    "           i +=1 #skip if even\n",
    "    return len(odds) #take the length of list"
   ]
  },
  {
   "cell_type": "code",
   "execution_count": 481,
   "metadata": {
    "id": "HVIPPmuP9Vet"
   },
   "outputs": [
    {
     "name": "stdout",
     "output_type": "stream",
     "text": [
      "4\n",
      "0\n"
     ]
    }
   ],
   "source": [
    "# sample test case\n",
    "print(count_odds([-15, -112, 14, -29, 17, 360, 86, 128, -12, 0, 23]))\n",
    "print(count_odds([]))"
   ]
  },
  {
   "cell_type": "code",
   "execution_count": 482,
   "metadata": {},
   "outputs": [
    {
     "name": "stdout",
     "output_type": "stream",
     "text": [
      "5\n"
     ]
    }
   ],
   "source": [
    "# your test case goes here\n",
    "print(count_odds([1,3,5,6,10,11,13]))"
   ]
  },
  {
   "cell_type": "markdown",
   "metadata": {
    "id": "ohrWTVIt9Veu"
   },
   "source": [
    "## Problem 2: Reversing a List Two Ways\n",
    "\n",
    "Write two functions `reverse_elem` and `reverse_lc` that take a list as a parameter and reverses the order of the elements.\n",
    "\n",
    "`reverse_elem` should use element-wise processing in a loop\n",
    "\n",
    "`reverse_lc` should use a list comprehension"
   ]
  },
  {
   "cell_type": "markdown",
   "metadata": {},
   "source": [
    "#### using element-wise processing"
   ]
  },
  {
   "cell_type": "code",
   "execution_count": 207,
   "metadata": {},
   "outputs": [],
   "source": [
    "def reverse_elem(x): #define function\n",
    "    new_list = [] #define new list\n",
    "    y=1 #start at 1 to pull from back of list (-1)\n",
    "    for i in range(len(x)): #iterate over each item in list\n",
    "        new_list.append(x[-y]) #add items from the 'back' of list\n",
    "        i+=1\n",
    "        y+=1 \n",
    "    return new_list"
   ]
  },
  {
   "cell_type": "code",
   "execution_count": 208,
   "metadata": {},
   "outputs": [
    {
     "data": {
      "text/plain": [
       "['squirrel', 'dinner', 'park', 'ball']"
      ]
     },
     "execution_count": 208,
     "metadata": {},
     "output_type": "execute_result"
    }
   ],
   "source": [
    "#test case for reverse_elem\n",
    "reverse_elem([\"ball\",\"park\",\"dinner\",\"squirrel\"]) "
   ]
  },
  {
   "cell_type": "code",
   "execution_count": 489,
   "metadata": {},
   "outputs": [
    {
     "name": "stdout",
     "output_type": "stream",
     "text": [
      "[9, 5, 1, 4, 1, 3]\n"
     ]
    }
   ],
   "source": [
    "# call your function with a couple of different lists and print the results here\n",
    "#test first example\n",
    "print(reverse_elem([3, 1, 4, 1, 5, 9]))"
   ]
  },
  {
   "cell_type": "code",
   "execution_count": 209,
   "metadata": {},
   "outputs": [
    {
     "name": "stdout",
     "output_type": "stream",
     "text": [
      "['Negative', 'Polychrome', 'Holographic', 'Foil', 'Base']\n"
     ]
    }
   ],
   "source": [
    "#second example\n",
    "print(reverse_elem([\"Base\", \"Foil\", \"Holographic\", \"Polychrome\", \"Negative\"]))"
   ]
  },
  {
   "cell_type": "code",
   "execution_count": 210,
   "metadata": {},
   "outputs": [
    {
     "name": "stdout",
     "output_type": "stream",
     "text": [
      "['Mako', 'Bolin', 'Asami', 'Korra', 174, 171, 170]\n"
     ]
    }
   ],
   "source": [
    "#third example\n",
    "print(reverse_elem([170, 171, 174, \"Korra\", \"Asami\", \"Bolin\", \"Mako\"]))"
   ]
  },
  {
   "cell_type": "code",
   "execution_count": 492,
   "metadata": {},
   "outputs": [
    {
     "name": "stdout",
     "output_type": "stream",
     "text": [
      "[6, 5, 4, 3, 1, 5]\n"
     ]
    }
   ],
   "source": [
    "#reverse_elem test case\n",
    "print(reverse_elem([5,1,3,4,5,6]))"
   ]
  },
  {
   "cell_type": "markdown",
   "metadata": {},
   "source": [
    "#### Using list comprehension"
   ]
  },
  {
   "cell_type": "code",
   "execution_count": 212,
   "metadata": {},
   "outputs": [],
   "source": [
    "#code for reverse_lc (list comprehension way)\n",
    "def reverse_lc(lc_list): #define func\n",
    " return [i for i in lc_list[::-1]] #pull every value in list from back of list"
   ]
  },
  {
   "cell_type": "code",
   "execution_count": 498,
   "metadata": {},
   "outputs": [
    {
     "name": "stdout",
     "output_type": "stream",
     "text": [
      "[5, 4, 3, 2, 1]\n"
     ]
    }
   ],
   "source": [
    "#test case\n",
    "print(reverse_lc([1,2,3,4,5]))"
   ]
  },
  {
   "cell_type": "code",
   "execution_count": 213,
   "metadata": {
    "id": "OYRLesZg9Vew"
   },
   "outputs": [
    {
     "name": "stdout",
     "output_type": "stream",
     "text": [
      "[9, 5, 1, 4, 1, 3]\n",
      "['Negative', 'Polychrome', 'Holographic', 'Foil', 'Base']\n",
      "['Mako', 'Bolin', 'Asami', 'Korra', 174, 171, 170]\n"
     ]
    }
   ],
   "source": [
    "print(reverse_lc([3, 1, 4, 1, 5, 9]))\n",
    "print(reverse_lc([\"Base\", \"Foil\", \"Holographic\", \"Polychrome\", \"Negative\"]))\n",
    "print(reverse_lc([170, 171, 174, \"Korra\", \"Asami\", \"Bolin\", \"Mako\"]))"
   ]
  },
  {
   "cell_type": "markdown",
   "metadata": {
    "id": "6Jcug3z09Vex"
   },
   "source": [
    "## Problem 3: Combining Two Lists\n",
    "\n",
    "Write a function that combines two lists by alternatingly taking elements from the **back** of the first list and the **front** of the second list, e.g. [a,b,c], [1,2,3] → [c,1,b,2,a,3].\n",
    "In case of two lists of different length, the result should be [a,b,c,d],[1,2]=>[d,1,c,2,b,a], i.e., the elements of the longer list are appended at the end."
   ]
  },
  {
   "cell_type": "code",
   "execution_count": 475,
   "metadata": {
    "id": "F5NHxrtB9Vey"
   },
   "outputs": [],
   "source": [
    "# combining two lists\n",
    "def combine_list(x,y):\n",
    "    alt_list = [] #create new list\n",
    "    i = 1 #using 1 because we we pull from back of first list (-1)\n",
    "    h = 0 #start at index 0 to pull from front of second list\n",
    "    while i <= len(x) and h < len(y): #while the lengths of list match:\n",
    "        alt_list.append(x[-i]) #alternate b/n lists \n",
    "        alt_list.append(y[h])\n",
    "        i+=1\n",
    "        h+=1\n",
    "    while i >= len(y) and i <= len(x): #if the lengths no longer match, pull accordingly from longer list\n",
    "        alt_list.append(x[-i])\n",
    "        i+=1\n",
    "    while h >= len(x) and h < len(y): \n",
    "        alt_list.append(y[h])\n",
    "        h+=1\n",
    "    return alt_list #return final list"
   ]
  },
  {
   "cell_type": "code",
   "execution_count": 476,
   "metadata": {},
   "outputs": [
    {
     "name": "stdout",
     "output_type": "stream",
     "text": [
      "[7, 'a', 6, 'b', 5, 'c', 4, 'd', 3, 2, 1]\n"
     ]
    }
   ],
   "source": [
    "#test case\n",
    "print(combine_list([1,2,3,4,5,6,7], [\"a\", \"b\", \"c\", \"d\"]))"
   ]
  },
  {
   "cell_type": "code",
   "execution_count": 477,
   "metadata": {
    "id": "XTcxZt1S9Vey"
   },
   "outputs": [
    {
     "name": "stdout",
     "output_type": "stream",
     "text": [
      "['z', 1, 'y', 1, 'x', 2, 'w', 3, 5, 8]\n",
      "[8, 'delta', 2, 'echo', 8, 'foxtrot', 1, 'golf', 7, 2]\n"
     ]
    }
   ],
   "source": [
    "# call your function with a couple of different lists and print the results here\n",
    "print(combine_list(['w', 'x', 'y', 'z'], [1, 1, 2, 3, 5, 8]))\n",
    "print(combine_list([2, 7, 1, 8, 2, 8], ['delta', 'echo', 'foxtrot', 'golf']))"
   ]
  },
  {
   "cell_type": "markdown",
   "metadata": {
    "id": "yxKmpVQd9Vez"
   },
   "source": [
    "## Problem 4: Numbers to Digits in Two Ways\n",
    "\n",
    "Write two functions that take a number and return a list of its digits in order, e.g., 789456 → [7, 8, 9, 4, 5, 6].\n",
    "\n",
    "You need to implement two versions of the function: `num_to_digits_elem`, a version with element-wise processing, and `num_to_digits_lc`, a version using the list comprehension way."
   ]
  },
  {
   "cell_type": "markdown",
   "metadata": {},
   "source": [
    "#### Using element-wise processing"
   ]
  },
  {
   "cell_type": "code",
   "execution_count": 519,
   "metadata": {},
   "outputs": [],
   "source": [
    "#element wise processing: defining num_to_digits_elem\n",
    "def num_to_digits_elem(x): #define function\n",
    "    i = 0 #start i at 0\n",
    "    digits = [] #define new list\n",
    "    d_list = str(x) #convert number to a string to iterate through it\n",
    "    for i in range(len(d_list)): #go through each element in the string (aka digits)\n",
    "        digits.append(int(d_list[i])) #add i as an int to the new list\n",
    "        i+=1 #continue for length of list\n",
    "    return digits #return list of digits"
   ]
  },
  {
   "cell_type": "code",
   "execution_count": 520,
   "metadata": {},
   "outputs": [
    {
     "data": {
      "text/plain": [
       "[2, 3, 4, 0, 9, 2, 3, 8, 4, 0]"
      ]
     },
     "execution_count": 520,
     "metadata": {},
     "output_type": "execute_result"
    }
   ],
   "source": [
    "#test case - element wise processing\n",
    "num_to_digits_elem(2340923840)"
   ]
  },
  {
   "cell_type": "markdown",
   "metadata": {},
   "source": [
    "#### Using list comprehension"
   ]
  },
  {
   "cell_type": "code",
   "execution_count": 219,
   "metadata": {},
   "outputs": [],
   "source": [
    "#defining num_to_digits_lc\n",
    "def num_to_digits_lc(x): \n",
    "    return [int(i) for i in str(x)] #convert number to string and then return each value as an int"
   ]
  },
  {
   "cell_type": "code",
   "execution_count": 524,
   "metadata": {},
   "outputs": [
    {
     "data": {
      "text/plain": [
       "[4, 9, 4, 8, 2, 3]"
      ]
     },
     "execution_count": 524,
     "metadata": {},
     "output_type": "execute_result"
    }
   ],
   "source": [
    "#test case for lc \n",
    "num_to_digits_lc(494823)"
   ]
  },
  {
   "cell_type": "code",
   "execution_count": 522,
   "metadata": {
    "id": "3pjI4Gut9Ve2"
   },
   "outputs": [
    {
     "name": "stdout",
     "output_type": "stream",
     "text": [
      "[4, 7, 0, 1, 3]\n",
      "[6, 0, 1, 7, 5, 6, 4, 9, 6, 1, 2, 6, 6, 3, 3, 9, 6, 8, 3, 9, 9, 5, 3]\n",
      "\n",
      "[4, 7, 0, 1, 3]\n",
      "[6, 0, 1, 7, 5, 6, 4, 9, 6, 1, 2, 6, 6, 3, 3, 9, 6, 8, 3, 9, 9, 5, 3]\n"
     ]
    }
   ],
   "source": [
    "# call your function with a couple of different numbers and print the results here\n",
    "print(num_to_digits_elem(47013))\n",
    "print(num_to_digits_elem(60175649612663396839953))\n",
    "print()\n",
    "print(num_to_digits_lc(47013))\n",
    "print(num_to_digits_lc(60175649612663396839953))"
   ]
  },
  {
   "cell_type": "markdown",
   "metadata": {
    "id": "5n7BxHMQ9Ve3"
   },
   "source": [
    "## Problem 5: Sums in Four Ways\n",
    "\n",
    "Write four functions that sums the numbers in a list. The first function should use a for-loop, the second a while-loop and the third and fourth should use recursion.\n",
    "\n",
    "The two versions of the function using recursion are: a version copying the list when passing the argument, and another version not copying the list when passing the argument.\n",
    "\n",
    "*Hint 1: Passing a slice of the list as an argument will copy the list.*\n",
    "\n",
    "*Hint 2: A function may need more than one argument, but you should allow the function to be called with only one argument given.*"
   ]
  },
  {
   "cell_type": "markdown",
   "metadata": {},
   "source": [
    "#### Using a for-loop"
   ]
  },
  {
   "cell_type": "code",
   "execution_count": 220,
   "metadata": {},
   "outputs": [],
   "source": [
    "#using a for-loop\n",
    "def sum_for(x):\n",
    "    sum1 = 0 #create running sum\n",
    "    for i in x: #for each value in list\n",
    "        sum1 += i   #add to the running sum\n",
    "        i += 1     #repeat until at the end of list\n",
    "    return sum1 #return new sum"
   ]
  },
  {
   "cell_type": "code",
   "execution_count": 221,
   "metadata": {},
   "outputs": [
    {
     "name": "stdout",
     "output_type": "stream",
     "text": [
      "14\n"
     ]
    }
   ],
   "source": [
    "#test case\n",
    "print(sum_for([2,3,4,5]))"
   ]
  },
  {
   "cell_type": "markdown",
   "metadata": {},
   "source": [
    "#### Using a while-loop"
   ]
  },
  {
   "cell_type": "code",
   "execution_count": 275,
   "metadata": {},
   "outputs": [],
   "source": [
    "#using a while-loop\n",
    "def sum_while(x):\n",
    "    i = 0\n",
    "    sum2 = 0\n",
    "    while i < len(x): #for each value in list\n",
    "        sum2 += x[i] #add each value to running sum\n",
    "        i +=1 #move through each index\n",
    "    return sum2 #return final sum"
   ]
  },
  {
   "cell_type": "code",
   "execution_count": 33,
   "metadata": {},
   "outputs": [
    {
     "name": "stdout",
     "output_type": "stream",
     "text": [
      "14\n"
     ]
    }
   ],
   "source": [
    "#test while loop\n",
    "print(sum_while([2,3,4,5]))"
   ]
  },
  {
   "cell_type": "markdown",
   "metadata": {},
   "source": [
    "#### Sum using recursion\n",
    "The two versions of the function using recursion are: a version copying the list when passing the argument, and another version not copying the list when passing the argument."
   ]
  },
  {
   "cell_type": "code",
   "execution_count": 276,
   "metadata": {},
   "outputs": [],
   "source": [
    "#sum_recursive\n",
    "def sum_recursive(x): #define function\n",
    "        if len(x) == 0: #once the list has been interated through and is at length zero, return 0\n",
    "            return 0\n",
    "        else:\n",
    "            return x[0] + sum_recursive(x[1:]) #add the first value in list and add next values"
   ]
  },
  {
   "cell_type": "code",
   "execution_count": 253,
   "metadata": {},
   "outputs": [
    {
     "name": "stdout",
     "output_type": "stream",
     "text": [
      "14\n"
     ]
    }
   ],
   "source": [
    "#test first recursion \n",
    "print(sum_recursive([2,3,4,5]))"
   ]
  },
  {
   "cell_type": "code",
   "execution_count": 294,
   "metadata": {},
   "outputs": [],
   "source": [
    "#sum recursive no copy\n",
    "def sum_recursive_no_copy(x):\n",
    "    y=list(x) #not sure if that was an allowed workaround to the range(1,9) list\n",
    "    if len(y) == 0: #once all elements have been removed, return 0\n",
    "        return 0\n",
    "    else:\n",
    "        return y.pop(0) + sum_recursive_no_copy(y) #extract first element and then add next values"
   ]
  },
  {
   "cell_type": "code",
   "execution_count": 295,
   "metadata": {},
   "outputs": [
    {
     "name": "stdout",
     "output_type": "stream",
     "text": [
      "14\n",
      "30\n"
     ]
    }
   ],
   "source": [
    "#test case\n",
    "print(sum_recursive_no_copy([2,3,4,5]))\n",
    "print(sum_recursive_no_copy([10,10,10]))"
   ]
  },
  {
   "cell_type": "code",
   "execution_count": 286,
   "metadata": {
    "id": "79pC87cC9Ve5"
   },
   "outputs": [
    {
     "name": "stdout",
     "output_type": "stream",
     "text": [
      "36 36 36 36\n",
      "\n",
      "34 34 34 34\n",
      "\n",
      "33 33 33 33\n",
      "\n",
      "22 22 22 22\n"
     ]
    }
   ],
   "source": [
    "# call your function with a couple of different lists and print the results here\n",
    "list1 = range(1,9)\n",
    "list2 = [1, 6, 2, -2, -2, 5, 9, 3, 7, -4, 9]\n",
    "list3 = [1, 8, 2, 0, 3, 9, 1, 8, -2, 3]\n",
    "list4 = [3, 6, 9, -3, 2, 7, 6, 1, -9]\n",
    "\n",
    "print(sum_for(list1), sum_while(list1), sum_recursive(list1), sum_recursive_no_copy(list1))\n",
    "print()\n",
    "print(sum_for(list2), sum_while(list2), sum_recursive(list2), sum_recursive_no_copy(list2))\n",
    "print()\n",
    "print(sum_for(list3), sum_while(list3), sum_recursive(list3), sum_recursive_no_copy(list3))\n",
    "print()\n",
    "print(sum_for(list4), sum_while(list4), sum_recursive(list4), sum_recursive_no_copy(list4))"
   ]
  },
  {
   "cell_type": "markdown",
   "metadata": {
    "id": "_5KdFNEG9Ve5"
   },
   "source": [
    "## Problem 6: Filtering\n",
    "\n",
    "Write a function `filter_alpha` that filters out elements from a list of strings that are alphabetically before a given test string. Preserve capitalization and their sort order.\n",
    "\n",
    "For example, aftering filtering out strings before \"Kilo\" from the list \\['Pulse', 'Chop', 'Puree', 'Stir', 'Liquify', 'Crush'\\] you would return \\['Pulse', 'Puree', 'Stir', 'Liquify'\\]."
   ]
  },
  {
   "cell_type": "code",
   "execution_count": 70,
   "metadata": {
    "id": "RR6AVB7h9Ve6"
   },
   "outputs": [],
   "source": [
    "# your code\n",
    "def filter_alpha(x,y): #define function that takes two arguments\n",
    "    filtera = [] #create new list\n",
    "    for i in x: #for each element in list\n",
    "        if i > y: #filter only values that are 'before' the given string, y\n",
    "            filtera.append(i) #add them to new list\n",
    "        else:\n",
    "            continue #otherwise, continue\n",
    "    return filtera #return new list with only filtered values"
   ]
  },
  {
   "cell_type": "code",
   "execution_count": 296,
   "metadata": {},
   "outputs": [
    {
     "name": "stdout",
     "output_type": "stream",
     "text": [
      "['Cheese', 'Jam', 'Butter']\n"
     ]
    }
   ],
   "source": [
    "#my test case\n",
    "x = [\"Cheese\", \"Apple\", \"Jam\", \"Butter\"]\n",
    "y = \"Bread\"\n",
    "\n",
    "print(filter_alpha(x,y))"
   ]
  },
  {
   "cell_type": "code",
   "execution_count": 32,
   "metadata": {
    "id": "lMvJaf9f9Ve7"
   },
   "outputs": [
    {
     "name": "stdout",
     "output_type": "stream",
     "text": [
      "['Pulse', 'Puree', 'Stir', 'Liquify']\n",
      "['Vixen']\n",
      "['bell', 'ghost', 'Hatch', 'cayenne', 'serrano']\n"
     ]
    }
   ],
   "source": [
    "# call your function with a couple of different n and print the results here\n",
    "print(filter_alpha(['Pulse', 'Chop', 'Puree', 'Stir', 'Liquify', 'Crush'], 'Kilo'))\n",
    "print(filter_alpha(['Dasher', 'Dancer', 'Prancer', 'Vixen', 'Comet', 'Cupid', 'Donner', 'Blitzen'], 'Rudolph'))\n",
    "print(filter_alpha(['bell', 'ghost', 'Hatch', 'cayenne', 'serrano', 'Anaheim', 'Bonney'], 'Fresno'))"
   ]
  },
  {
   "cell_type": "markdown",
   "metadata": {
    "id": "EGYlBRFG9Ve7"
   },
   "source": [
    "## Problem 7: Pell Numbers\n",
    "\n",
    "Write a function that takes a number `n` and an empty array that writes the first `n` [Pell numbers](https://en.wikipedia.org/wiki/Pell_number) into the empty array. Print the array. \n",
    "\n",
    "The Pell numbers can be generated via a relation where $Pell(x) = 2 * Pell(x-1) + Pell(x-2)$ with $Pell(1) = 1$ and $Pell(0) = 0$. Note that this sequence starts with $Pell(1)$ and $Pell(0)$ is just used in the relation. \n",
    "\n",
    "The sequence begins `1`, `(2*1 + 0) = 2`, `(2*2 + 1) = 5`, `(2*5 + 2) = 12`...\n",
    "\n",
    "Thus, if you call `pell(4)`, it should thus produce `[1, 2, 5, 12]`."
   ]
  },
  {
   "cell_type": "code",
   "execution_count": 217,
   "metadata": {},
   "outputs": [],
   "source": [
    "def pell(n): #define function\n",
    "    array = [] #create empty array\n",
    "    for i in range(0,(n+1)): \n",
    "        if i == 0:\n",
    "            array.append(0) #pell(0) = 0\n",
    "        elif i == 1:\n",
    "            array.append(1) #pell(1) = 1\n",
    "        else:\n",
    "            array.append(2*array[-1] + array [-2]) #pell number formula\n",
    "        i+=1 #iterate through n \n",
    "    return array [1:] #skip first number, 0"
   ]
  },
  {
   "cell_type": "code",
   "execution_count": 218,
   "metadata": {},
   "outputs": [
    {
     "name": "stdout",
     "output_type": "stream",
     "text": [
      "[1, 2, 5, 12]\n"
     ]
    }
   ],
   "source": [
    "#test case\n",
    "print(pell(4))"
   ]
  },
  {
   "cell_type": "code",
   "execution_count": 197,
   "metadata": {},
   "outputs": [
    {
     "name": "stdout",
     "output_type": "stream",
     "text": [
      "[1, 2, 5, 12, 29, 70, 169, 408]\n"
     ]
    }
   ],
   "source": [
    "#other test case\n",
    "print(pell(8))"
   ]
  },
  {
   "cell_type": "code",
   "execution_count": 198,
   "metadata": {},
   "outputs": [
    {
     "name": "stdout",
     "output_type": "stream",
     "text": [
      "[1, 2, 5, 12, 29, 70, 169, 408, 985, 2378, 5741, 13860]\n"
     ]
    }
   ],
   "source": [
    "#test case 3\n",
    "print(pell(12))"
   ]
  },
  {
   "cell_type": "markdown",
   "metadata": {
    "id": "6ycInDlR9Ve9"
   },
   "source": [
    "# Problem 8: Rolling Mean of Piano Practice\n",
    "\n",
    "Write a function `rolling_mean` that takes a list of minutes practicing piano every day, and computes a moving average over every consecutive `k` days. Some days will be missing measurements and will instead have the value `None`.\n",
    "\n",
    "**Caveats:**\n",
    "* The days missing measurements should be included in your `k` day window, but should not affect the average.\n",
    "  * e.g.`rolling_mean([87,None,92],3)` should return `[89.5]`\n",
    "* If all days in a window are missing measurements then the average should also have the value `None`.\n",
    "  * e.g. `rolling_mean([None, None, 53], 2)` should return `[None, 53]`\n",
    "* Only compute averages as long as you have enough data points to fill the window.\n",
    "  * e.g. `rolling_mean([100,25,30,45,50,60,75,80],7)` should return a list of length two.\n",
    "  * e.g. `rolling_mean([120,240,30,45,55],2)` should return a list of length 4.\n",
    "  * e.g. `rolling_mean([100,200,35], 4)` should return an empty list.\n",
    "\n",
    "You can use these as example lists, but make sure that your algorithm works on other lists/windows."
   ]
  },
  {
   "cell_type": "code",
   "execution_count": 337,
   "metadata": {
    "id": "qyQv0Ms19Ve-"
   },
   "outputs": [],
   "source": [
    "#rolling mean function\n",
    "def rolling_mean(x,k):\n",
    "    roll_mean = [] #create list of rolling means\n",
    "    i = 0\n",
    "    while i in x:\n",
    "        window = x[i:(i+k)]\n",
    "        if x[i] is None:\n",
    "            roll_mean.append(None)\n",
    "        else:\n",
    "            sum1 = 0\n",
    "            for j in window: \n",
    "                sum1 += window[j]\n",
    "            roll_mean.append(sum1/len(window))\n",
    "        i+=1\n",
    "    return roll_mean"
   ]
  },
  {
   "cell_type": "code",
   "execution_count": 338,
   "metadata": {},
   "outputs": [
    {
     "data": {
      "text/plain": [
       "[]"
      ]
     },
     "execution_count": 338,
     "metadata": {},
     "output_type": "execute_result"
    }
   ],
   "source": [
    "rolling_mean([100,25,30,45,50,60,75,80],7)"
   ]
  },
  {
   "cell_type": "code",
   "execution_count": 324,
   "metadata": {},
   "outputs": [
    {
     "ename": "KeyboardInterrupt",
     "evalue": "",
     "output_type": "error",
     "traceback": [
      "\u001b[0;31m---------------------------------------------------------------------------\u001b[0m",
      "\u001b[0;31mKeyboardInterrupt\u001b[0m                         Traceback (most recent call last)",
      "Cell \u001b[0;32mIn[324], line 1\u001b[0m\n\u001b[0;32m----> 1\u001b[0m \u001b[43mrolling_mean\u001b[49m\u001b[43m(\u001b[49m\u001b[43m[\u001b[49m\u001b[38;5;241;43m75\u001b[39;49m\u001b[43m,\u001b[49m\u001b[38;5;241;43m83\u001b[39;49m\u001b[43m,\u001b[49m\u001b[38;5;28;43;01mNone\u001b[39;49;00m\u001b[43m,\u001b[49m\u001b[38;5;241;43m95\u001b[39;49m\u001b[43m,\u001b[49m\u001b[38;5;241;43m92\u001b[39;49m\u001b[43m,\u001b[49m\u001b[38;5;28;43;01mNone\u001b[39;49;00m\u001b[43m]\u001b[49m\u001b[43m,\u001b[49m\u001b[38;5;241;43m4\u001b[39;49m\u001b[43m)\u001b[49m\n",
      "Cell \u001b[0;32mIn[323], line 5\u001b[0m, in \u001b[0;36mrolling_mean\u001b[0;34m(x, k)\u001b[0m\n\u001b[1;32m      3\u001b[0m roll_mean \u001b[38;5;241m=\u001b[39m []\n\u001b[1;32m      4\u001b[0m i \u001b[38;5;241m=\u001b[39m \u001b[38;5;241m0\u001b[39m\n\u001b[0;32m----> 5\u001b[0m \u001b[38;5;28;01mwhile\u001b[39;00m i \u001b[38;5;241m<\u001b[39m ((\u001b[38;5;28mlen\u001b[39m(x) \u001b[38;5;241m-\u001b[39m k) \u001b[38;5;241m+\u001b[39m \u001b[38;5;241m1\u001b[39m):\n\u001b[1;32m      6\u001b[0m     window \u001b[38;5;241m=\u001b[39m x[i:(i\u001b[38;5;241m+\u001b[39mk)]\n\u001b[1;32m      7\u001b[0m     \u001b[38;5;28;01mif\u001b[39;00m i \u001b[38;5;129;01mis\u001b[39;00m \u001b[38;5;28;01mNone\u001b[39;00m:\n",
      "\u001b[0;31mKeyboardInterrupt\u001b[0m: "
     ]
    }
   ],
   "source": [
    "rolling_mean([75,83,None,95,92,None],4)"
   ]
  },
  {
   "cell_type": "markdown",
   "metadata": {
    "id": "-If3GsvL9Ve_"
   },
   "source": [
    "### From provided examples:"
   ]
  },
  {
   "cell_type": "code",
   "execution_count": null,
   "metadata": {
    "id": "Aq9L7jCm9Ve_"
   },
   "outputs": [],
   "source": [
    "print('Computed Averages: ' + str(rolling_mean([87,None,92],3)), 'Expected: [89.5]')\n",
    "print('Computed Averages: ' + str(rolling_mean([None, None, 53], 2)), 'Expected: [None, 53.0]')\n",
    "print('Length of List: ' + str(len(rolling_mean([100,25,30,45,50,60,75,80],7))), 'Expected Length: 2')\n",
    "print('Length of List: ' + str(len(rolling_mean([120,240,30,45,55],2))), 'Expected Length: 4')\n",
    "print('Length of List: ' + str(len(rolling_mean([100,200,35],4))), 'Expected Length: Empty')"
   ]
  },
  {
   "cell_type": "code",
   "execution_count": null,
   "metadata": {},
   "outputs": [],
   "source": [
    "# your test case goes here"
   ]
  },
  {
   "cell_type": "markdown",
   "metadata": {
    "id": "SN5hbWM59Ve_"
   },
   "source": [
    "### Other Examples:"
   ]
  },
  {
   "cell_type": "code",
   "execution_count": null,
   "metadata": {
    "id": "QUlq4Qxa9VfA"
   },
   "outputs": [],
   "source": [
    "student_1 = range(17)"
   ]
  },
  {
   "cell_type": "code",
   "execution_count": null,
   "metadata": {
    "id": "iNMtJydP9VfA"
   },
   "outputs": [],
   "source": [
    "student_2 = [75,83,None,95,92,None]"
   ]
  },
  {
   "cell_type": "code",
   "execution_count": null,
   "metadata": {
    "id": "cJdpAIz49VfB"
   },
   "outputs": [],
   "source": [
    "student_3 = [77,None,None,None,68,60,70,None,92]"
   ]
  },
  {
   "cell_type": "code",
   "execution_count": null,
   "metadata": {
    "id": "TQekdAqV9VfB"
   },
   "outputs": [],
   "source": [
    "student_4 = [81,72,93]"
   ]
  },
  {
   "cell_type": "code",
   "execution_count": null,
   "metadata": {
    "id": "9y0XuLyh9VfC"
   },
   "outputs": [],
   "source": [
    "student_5 = [None, None, None, 62]"
   ]
  },
  {
   "cell_type": "code",
   "execution_count": null,
   "metadata": {
    "id": "ai2zsY7X9VfD"
   },
   "outputs": [],
   "source": [
    "student_6 = []"
   ]
  },
  {
   "cell_type": "code",
   "execution_count": null,
   "metadata": {
    "id": "0i-LsPMk9VfE"
   },
   "outputs": [],
   "source": [
    "print(rolling_mean(student_1, 8))"
   ]
  },
  {
   "cell_type": "code",
   "execution_count": null,
   "metadata": {
    "id": "ulr2mV3z9VfE"
   },
   "outputs": [],
   "source": [
    "print(rolling_mean(student_2, 2))\n",
    "print(rolling_mean(student_2, 3))"
   ]
  },
  {
   "cell_type": "code",
   "execution_count": null,
   "metadata": {
    "id": "R1plsoR39VfE"
   },
   "outputs": [],
   "source": [
    "print(rolling_mean(student_3, 2))\n",
    "print(rolling_mean(student_3, 3))\n",
    "print(rolling_mean(student_3, 4))"
   ]
  },
  {
   "cell_type": "code",
   "execution_count": null,
   "metadata": {
    "id": "mmipCeK69VfF",
    "scrolled": true
   },
   "outputs": [],
   "source": [
    "print(rolling_mean(student_4, 1))\n",
    "print(rolling_mean(student_4, 2))\n",
    "print(rolling_mean(student_4, 3))\n",
    "print(rolling_mean(student_4, 4))"
   ]
  },
  {
   "cell_type": "code",
   "execution_count": null,
   "metadata": {
    "id": "VdKFZJ249VfF"
   },
   "outputs": [],
   "source": [
    "print(rolling_mean(student_5, 1))\n",
    "print(rolling_mean(student_5, 2))\n",
    "print(rolling_mean(student_5, 3))\n",
    "print(rolling_mean(student_5, 4))"
   ]
  },
  {
   "cell_type": "code",
   "execution_count": null,
   "metadata": {
    "id": "xnSCyB4W9VfG",
    "scrolled": true
   },
   "outputs": [],
   "source": [
    "print(rolling_mean(student_6, 1))\n",
    "print(rolling_mean(student_6, 7))"
   ]
  },
  {
   "cell_type": "markdown",
   "metadata": {},
   "source": [
    "# Problem 9: Reflecting\n",
    "\n",
    "Create a markdown cell below. Succinctly describe what you referenced to help you do the assignment and what the biggest challenges were."
   ]
  },
  {
   "cell_type": "markdown",
   "metadata": {},
   "source": [
    "I referenced the lecture exercises, the links within those, and some additional examples from geeksforgeeks, w3, and stack overflow\n",
    "to get some refreshers on how each function type should be structured and why I was getting certain error messages. It took me a while to work through the problem that asked you to merge two lists while alternating, but it made me think a lot about the structure of the function and why some small changes were making a big difference. I appreciated having the opportunity to over these general concepts though. It's definitely highlighted the areas I need to work on right now. I ran out of time for the last one unfortunately."
   ]
  }
 ],
 "metadata": {
  "anaconda-cloud": {},
  "colab": {
   "provenance": []
  },
  "kernelspec": {
   "display_name": "Python 3 (ipykernel)",
   "language": "python",
   "name": "python3"
  },
  "language_info": {
   "codemirror_mode": {
    "name": "ipython",
    "version": 3
   },
   "file_extension": ".py",
   "mimetype": "text/x-python",
   "name": "python",
   "nbconvert_exporter": "python",
   "pygments_lexer": "ipython3",
   "version": "3.13.0"
  }
 },
 "nbformat": 4,
 "nbformat_minor": 4
}
