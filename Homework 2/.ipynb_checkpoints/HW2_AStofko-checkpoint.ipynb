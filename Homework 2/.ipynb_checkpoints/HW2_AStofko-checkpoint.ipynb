{
 "cells": [
  {
   "cell_type": "markdown",
   "metadata": {},
   "source": [
    "# Introduction to Data Science – Homework 2\n",
    "*COMP 5360 / MATH 4100, University of Utah, http://datasciencecourse.net/*\n",
    "\n",
    "Due: Friday, January 24, 11:59pm.\n",
    "\n",
    "This homework is designed to reinforce the skills we covered in the last week including various descriptive statistics. Make sure to go through the lectures again in case you have any trouble.\n",
    "\n",
    "**Note: Please provide comments describing what your code was doing at each stage**.\n",
    "\n",
    "**Note: Please fill the cell that says `Your Interpretation` or `Your description` in the below code**.\n"
   ]
  },
  {
   "cell_type": "markdown",
   "metadata": {},
   "source": [
    "## Your Data\n",
    "Fill out the following information: \n",
    "\n",
    "*First Name:*  Andrea   \n",
    "*Last Name:*   Stofko\n",
    "\n",
    "*E-mail:*      andrea.stofko@utha.edu\n",
    "*UID:*         u6040357"
   ]
  },
  {
   "cell_type": "markdown",
   "metadata": {},
   "source": [
    "## Part 1: Vector data\n",
    "\n",
    "We first will work with a vector of monthly average temperatures for TaylorSville, UT, which we downloaded from [NOAA](https://www.ncdc.noaa.gov/). The data is included in this repository in the file `TaylorSville.csv`.\n",
    "\n",
    "The data is stored in the CSV format, which is a simple textfile with 'Comma Separated Values'.\n",
    "To load the data, we use the read_csv function from the pandas library. The following code reads the file and stores it in a vector:"
   ]
  },
  {
   "cell_type": "code",
   "execution_count": 208,
   "metadata": {},
   "outputs": [
    {
     "name": "stdout",
     "output_type": "stream",
     "text": [
      "           Date  TAVG  PRCP\n",
      "0      1/1/2024    26   0.0\n",
      "1      1/2/2024    27   0.0\n",
      "2      1/3/2024    26   0.0\n",
      "3      1/4/2024    21   0.2\n",
      "4      1/5/2024    19   0.0\n",
      "..          ...   ...   ...\n",
      "361  12/27/2024    30   0.0\n",
      "362  12/28/2024    36   0.0\n",
      "363  12/29/2024    39   0.0\n",
      "364  12/30/2024    26   0.0\n",
      "365  12/31/2024    21   0.0\n",
      "\n",
      "[366 rows x 3 columns]\n",
      "[26, 27, 26, 21, 19, 19, 14, 11, 26, 21, 11, 19, 26, 28, 26, 29, 33, 33, 37, 33, 29, 28, 28, 29, 27, 25, 32, 38, 37, 36, 36, 34, 28, 22, 24, 32, 31, 23, 22, 20, 16, 20, 31, 30, 30, 29, 29, 25, 32, 35, 34, 31, 28, 30, 34, 38, 35, 24, 30, 34, 33, 30, 25, 28, 31, 32, 28, 25, 27, 34, 35, 32, 25, 23, 27, 29, 28, 33, 36, 39, 40, 40, 36, 26, 24, 24, 29, 35, 35, 36, 28, 28, 35, 43, 43, 31, 22, 27, 28, 34, 38, 44, 48, 45, 41, 32, 41, 47, 47, 46, 45, 47, 52, 52, 48, 41, 35, 34, 38, 43, 47, 42, 41, 44, 47, 38, 33, 35, 31, 34, 36, 39, 47, 51, 50, 45, 50, 55, 55, 53, 47, 36, 46, 46, 47, 44, 47, 53, 58, 58, 53, 55, 60, 58, 58, 56, 62, 66, 65, 63, 64, 61, 64, 68, 64, 59, 64, 63, 58, 48, 57, 61, 56, 60, 63, 64, 65, 63, 59, 61, 65, 64, 63, 60, 64, 62, 61, 64, 66, 63, 67, 70, 71, 71, 70, 69, 65, 62, 65, 65, 64, 64, 65, 64, 66, 69, 68, 64, 65, 64, 65, 66, 67, 70, 69, 68, 64, 65, 65, 67, 62, 60, 60, 59, 57, 54, 60, 62, 64, 60, 57, 60, 65, 62, 56, 53, 54, 55, 56, 60, 62, 61, 61, 61, 61, 60, 61, 60, 55, 57, 61, 61, 60, 57, 59, 55, 52, 57, 57, 53, 47, 48, 52, 53, 49, 50, 53, 55, 59, 61, 61, 62, 63, 61, 60, 60, 59, 61, 57, 56, 55, 56, 56, 57, 57, 55, 55, 50, 49, 49, 44, 34, 37, 36, 43, 46, 51, 47, 49, 52, 53, 45, 30, 26, 33, 36, 34, 25, 26, 27, 17, 23, 29, 39, 41, 42, 29, 35, 42, 33, 23, 26, 32, 20, 35, 45, 45, 40, 32, 29, 32, 21, 25, 31, 38, 39, 38, 38, 37, 37, 36, 38, 38, 18, 23, 34, 34, 26, 33, 30, 38, 36, 40, 42, 44, 44, 42, 35, 34, 28, 31, 30, 36, 39, 26, 21]\n",
      "[0.0, 0.0, 0.0, 0.2, 0.0, 0.0, 0.4, 0.0, 0.0, 0.1, 0.0, 0.1, 0.0, 0.0, 0.0, 0.0, 0.1, 0.0, 0.0, 0.0, 0.2, 0.0, 0.2, 0.0, 0.0, 0.0, 0.0, 0.0, 0.0, 0.0, 0.0, 0.3, 0.4, 0.0, 0.1, 0.0, 0.9, 0.2, 0.7, 0.2, 0.0, 0.0, 0.0, 0.1, 0.0, 0.0, 0.0, 0.0, 0.0, 0.0, 0.0, 0.0, 0.0, 0.0, 0.0, 0.0, 0.0, 0.1, 0.0, 0.0, 0.0, 0.7, 0.1, 0.0, 0.0, 0.0, 0.2, 0.0, 0.0, 0.0, 0.0, 0.0, 0.1, 0.1, 2.6, 0.6, 0.1, 0.0, 0.0, 0.0, 0.0, 0.0, 0.1, 0.0, 0.1, 0.0, 0.0, 0.0, 0.1, 0.0, 0.2, 0.0, 0.0, 0.0, 0.0, 0.0, 0.1, 0.0, 0.0, 0.0, 0.0, 0.0, 0.0, 0.0, 0.0, 0.1, 0.0, 0.0, 0.0, 0.0, 0.0, 0.0, 0.0, 0.0, 0.0, 0.0, 0.2, 0.6, 0.0, 0.0, 0.0, 0.0, 0.0, 0.0, 0.0, 0.3, 0.0, 0.1, 0.0, 0.0, 0.1, 0.0, 0.0, 0.0, 0.1, 0.0, 0.0, 0.0, 0.0, 0.0, 0.1, 0.0, 0.0, 0.0, 0.0, 0.1, 0.0, 0.0, 0.0, 0.0, 0.0, 0.0, 0.0, 0.0, 0.0, 0.0, 0.0, 0.0, 0.0, 0.0, 0.0, 0.0, 0.0, 0.0, 0.0, 0.0, 0.0, 0.0, 0.0, 0.0, 0.0, 0.0, 0.0, 0.0, 0.0, 0.0, 0.0, 0.0, 0.3, 0.0, 0.0, 0.0, 0.0, 0.0, 0.0, 0.0, 0.0, 0.0, 0.0, 0.0, 0.0, 0.0, 0.0, 0.0, 0.0, 0.0, 0.0, 0.0, 0.0, 0.0, 0.0, 0.0, 0.0, 0.0, 0.0, 0.0, 0.0, 0.0, 0.0, 0.0, 0.0, 0.0, 0.0, 0.0, 0.0, 0.0, 0.1, 0.0, 2.0, 0.0, 1.1, 0.2, 0.3, 0.1, 0.3, 1.0, 0.0, 0.0, 0.0, 0.3, 0.0, 0.0, 0.0, 0.0, 0.1, 0.6, 0.1, 0.2, 0.0, 0.0, 0.0, 0.0, 0.0, 0.0, 0.0, 0.0, 0.0, 0.0, 0.0, 0.0, 0.0, 0.0, 0.0, 0.1, 0.0, 0.1, 0.0, 0.0, 0.0, 0.0, 0.0, 0.0, 0.0, 0.0, 0.0, 0.0, 0.0, 0.0, 0.0, 0.0, 0.0, 0.0, 0.0, 0.0, 0.1, 0.0, 0.0, 0.0, 0.0, 0.0, 0.0, 0.0, 0.0, 0.0, 0.0, 0.0, 0.0, 0.1, 0.0, 0.0, 0.2, 1.1, 0.2, 0.2, 0.0, 0.0, 0.0, 0.0, 0.0, 0.0, 0.0, 0.0, 0.1, 0.0, 0.0, 0.0, 0.1, 0.1, 0.0, 0.1, 0.1, 0.0, 0.0, 0.0, 0.0, 0.0, 0.0, 0.0, 0.0, 0.0, 0.1, 0.0, 0.0, 0.0, 0.0, 0.0, 0.0, 0.0, 0.0, 0.3, 0.8, 0.0, 0.0, 0.0, 0.0, 0.0, 0.0, 0.0, 0.0, 0.0, 0.0, 0.0, 0.0, 0.1, 0.0, 0.0, 0.0, 0.0, 0.0, 0.0, 0.0, 0.0, 0.0, 0.0, 0.0, 0.0, 0.0, 0.1, 0.1, 0.0, 0.0, 0.0, 0.0, 0.0, 0.0, 0.0]\n"
     ]
    }
   ],
   "source": [
    "# import the csv library\n",
    "import csv\n",
    "# import the math library we'll use later\n",
    "import math\n",
    "# import the pandas library\n",
    "import pandas as pd\n",
    "\n",
    "# read in and print the data\n",
    "data = pd.read_csv(\"TaylorSville.csv\")\n",
    "print(data)\n",
    "\n",
    "# define vectors of interest\n",
    "temperature_vector = data[\"TAVG\"].tolist()\n",
    "precipitation_vector = data[\"PRCP\"].tolist()\n",
    "        \n",
    "# print the vector to see if it worked\n",
    "print (temperature_vector)\n",
    "print (precipitation_vector)"
   ]
  },
  {
   "cell_type": "markdown",
   "metadata": {},
   "source": [
    "We'll next use descriptive statistics to analyze the data in `temperature_vector`.\n",
    "\n",
    "In this problem, we'll do calculations that are also available in NumPy. For the purpose of this homework, however, **we want you to implement the solutions using standard python functionality and the math library, and then check your results using functions in NumPy** . \n",
    "\n",
    "See the the [NumPy library](http://docs.scipy.org/doc/numpy-1.11.0/reference/routines.statistics.html) documentation and include the checks as a separate code cell. "
   ]
  },
  {
   "cell_type": "markdown",
   "metadata": {},
   "source": [
    "### Task 1.1: Calculate the Sum of a Vector\n",
    "\n",
    "Write a function that calculates and returns the sum of a vector that you pass into it. \n",
    "\n",
    "Pass the temperature and precipitaton vector into this function and print the result."
   ]
  },
  {
   "cell_type": "code",
   "execution_count": 84,
   "metadata": {},
   "outputs": [
    {
     "name": "stdout",
     "output_type": "stream",
     "text": [
      "[26, 27, 26, 21, 19, 19, 14, 11, 26, 21]\n"
     ]
    },
    {
     "data": {
      "text/plain": [
       "366"
      ]
     },
     "execution_count": 84,
     "metadata": {},
     "output_type": "execute_result"
    }
   ],
   "source": [
    "#view properties of temp vector\n",
    "print(temperature_vector[:10]) #view\n",
    "len(temperature_vector) #2024 was a leap yearx"
   ]
  },
  {
   "cell_type": "code",
   "execution_count": 85,
   "metadata": {},
   "outputs": [
    {
     "data": {
      "text/plain": [
       "16224"
      ]
     },
     "execution_count": 85,
     "metadata": {},
     "output_type": "execute_result"
    }
   ],
   "source": [
    "sum(temperature_vector) #calculate sum of temperature vector"
   ]
  },
  {
   "cell_type": "code",
   "execution_count": 86,
   "metadata": {},
   "outputs": [],
   "source": [
    "#write a function that calculates the sum of a vector\n",
    "def sum_vect(x): \n",
    "    sum1 = 0 #initialize starting at zero\n",
    "    for i in x: #for every value in the vector\n",
    "        sum1 +=i #add that value to the sum1 value\n",
    "    return sum1 #return the final value"
   ]
  },
  {
   "cell_type": "code",
   "execution_count": 87,
   "metadata": {},
   "outputs": [
    {
     "name": "stdout",
     "output_type": "stream",
     "text": [
      "16224\n",
      "21.900000000000016\n"
     ]
    }
   ],
   "source": [
    "#check using temp and precipitation \n",
    "print(sum_vect(temperature_vector))\n",
    "print(sum_vect(precipitation_vector))"
   ]
  },
  {
   "cell_type": "code",
   "execution_count": 88,
   "metadata": {},
   "outputs": [
    {
     "name": "stdout",
     "output_type": "stream",
     "text": [
      "16224\n",
      "21.9\n"
     ]
    }
   ],
   "source": [
    "#check using numpy\n",
    "import numpy as np\n",
    "print(np.sum(temperature_vector))\n",
    "print(np.sum(precipitation_vector))"
   ]
  },
  {
   "cell_type": "markdown",
   "metadata": {},
   "source": [
    "**Your Interpretation:** This function will calculate the sum of a vector. This is done by initializing with the variable sum1\n",
    "set to 0. Each element in the vector is iterated over and added to the variable which is finally returned at the end. "
   ]
  },
  {
   "cell_type": "markdown",
   "metadata": {},
   "source": [
    "### Task 1.2: Calculate the Mean of a Vector\n",
    "\n",
    "Write a function that calculates and returns the [arithmetic mean](https://en.wikipedia.org/wiki/Arithmetic_mean) of a vector that you pass into it. Use your above defined sum function to calculate sum of all the elements of a vector.\n",
    "\n",
    "Pass the temperature and precipitaton vector into this function and print the result. Provide a written interpretation of your results (e.g., \"The mean temperature for TaylorSville is XXX degrees Fahrenheit. The mean precipitation is XXX inches.\")"
   ]
  },
  {
   "cell_type": "code",
   "execution_count": 89,
   "metadata": {},
   "outputs": [],
   "source": [
    "#calculate the mean of a vector\n",
    "def mean_vect(x): #define mean function\n",
    "    return sum_vect(x)/len(x) #use sum function and divide by length of the vector to get mean"
   ]
  },
  {
   "cell_type": "code",
   "execution_count": 90,
   "metadata": {},
   "outputs": [
    {
     "name": "stdout",
     "output_type": "stream",
     "text": [
      "44.32786885245902\n",
      "0.05983606557377054\n"
     ]
    }
   ],
   "source": [
    "#calculate mean\n",
    "print(mean_vect(temperature_vector))\n",
    "print(mean_vect(precipitation_vector))"
   ]
  },
  {
   "cell_type": "code",
   "execution_count": 91,
   "metadata": {},
   "outputs": [
    {
     "name": "stdout",
     "output_type": "stream",
     "text": [
      "44.32786885245902\n",
      "0.05983606557377049\n"
     ]
    }
   ],
   "source": [
    "# check results using Numpy\n",
    "print(np.mean(temperature_vector))\n",
    "print (np.mean (precipitation_vector))"
   ]
  },
  {
   "cell_type": "markdown",
   "metadata": {},
   "source": [
    "**Your Interpretation:** The mean daily temperature for Taylorsville in 2024 was 44.33 degrees Fahrenheit. The mean daily precipitation\n",
    "was 0.06 inches. \n",
    "This function uses the sum function specified above and then divides by the length of the vector that is passed."
   ]
  },
  {
   "cell_type": "markdown",
   "metadata": {},
   "source": [
    "### Task 1.3: Calculate the Median of a Vector\n",
    "Write a function that calculates and returns the [median](https://en.wikipedia.org/wiki/Median) of a vector. Pass the temperature vector into this function and print the result. Make sure that your function works for both vectors with an even and odd number of elements. In the case of an even number of elements, use the mean of the two middle values. Provide a written interpretation of your results.\n",
    "\n",
    "Hint: the [`sorted()`](https://docs.python.org/3/library/functions.html#sorted) function might be helpful for this."
   ]
  },
  {
   "cell_type": "code",
   "execution_count": 323,
   "metadata": {},
   "outputs": [],
   "source": [
    "#calculate the median \n",
    "def med_vector(x): #define median function\n",
    "    sortedl = sorted(x) #sort given vector\n",
    "    mid_list = [] #create empty list to use for calculating med\n",
    "    mid = (int(len(x))//2) #find index of middle value (floor value for odd numbered list)\n",
    "    if len(x) % 2 == 0: #if vector has an even number of values:\n",
    "        mid_list.append(sortedl[mid]) #add both middle values to empty list\n",
    "        mid_list.append(sortedl[mid-1])\n",
    "        return mean_vect(mid_list) #then find mean of those values\n",
    "    else: #if vector is odd length, the middle value can just be returned\n",
    "        return(sortedl[mid]) \n",
    "    "
   ]
  },
  {
   "cell_type": "code",
   "execution_count": 324,
   "metadata": {},
   "outputs": [
    {
     "name": "stdout",
     "output_type": "stream",
     "text": [
      "43.5\n",
      "0.0\n"
     ]
    }
   ],
   "source": [
    "#test calc median\n",
    "print(med_vector(temperature_vector))\n",
    "print(med_vector(precipitation_vector))"
   ]
  },
  {
   "cell_type": "code",
   "execution_count": 325,
   "metadata": {},
   "outputs": [
    {
     "name": "stdout",
     "output_type": "stream",
     "text": [
      "43.5\n",
      "0.0\n"
     ]
    }
   ],
   "source": [
    "# check results using Numpy\n",
    "print(np.median(temperature_vector))\n",
    "print(np.median(precipitation_vector))"
   ]
  },
  {
   "cell_type": "markdown",
   "metadata": {},
   "source": [
    "**Your Interpretation:** The median temperature for Taylorsville in 2024 was 43.5 degrees Fahrenheit and the median precipitation\n",
    "was 0 inches. The median for both precipitation and temperature are close the mean values as expected.\n",
    "\n",
    "A vector is passed into this function and then sorted. We want to return the middle value of this sorted vector (sortedl) to get the median. For an even list, this is done by taking the mean of the two middle values and for an odd number list, this is done by taking the middle value (mid). The 'mid' value is found by taking the length of the vector and dividing by two. Flooring is used here to round down so that the correct index is returned. The mean function (mena_vect) is used from above to calculate the mean of the two middle values fo an even list. "
   ]
  },
  {
   "cell_type": "markdown",
   "metadata": {},
   "source": [
    "### Task 1.4: Calculate the Variance of a Vector\n",
    "\n",
    "Write a function that calculates and returns the [variance](https://en.wikipedia.org/wiki/Variance) of a vector. Pass the temperature and precipitation vectors into this function and print the result. Provide a written interpretation of your results. Is the variance high? Why, Why not? \n",
    "\n",
    "The variance is the average of the squared deviations from the mean, i.e.,\n",
    "\n",
    "$$ Var(X) = {\\sigma}^{2} = \\frac{1}{N} \\sum_{i=1}^{N} {{(x_i - \\mu)}^2} $$\n",
    "\n",
    "where $\\mu$ is the mean of the vector. Hint: use your mean function to calculate it."
   ]
  },
  {
   "cell_type": "code",
   "execution_count": 223,
   "metadata": {},
   "outputs": [],
   "source": [
    "# calculate variance\n",
    "def var_vector(x): #define function\n",
    "    var1 = [] #create empty list to fill with intermediate values\n",
    "    for i in x: #use every value in vector\n",
    "        var1.append((mean_vect(x) - i)**2) #find difference of every value from mean and square\n",
    "    return sum_vect(var1)/(len(x)) #sum values and divide by total number of values to find variance\n",
    "        "
   ]
  },
  {
   "cell_type": "code",
   "execution_count": 96,
   "metadata": {},
   "outputs": [
    {
     "name": "stdout",
     "output_type": "stream",
     "text": [
      "222.37337633252704\n",
      "0.04978030099435656\n"
     ]
    }
   ],
   "source": [
    "#test variance function\n",
    "print(var_vector(temperature_vector))\n",
    "print(var_vector(precipitation_vector))"
   ]
  },
  {
   "cell_type": "code",
   "execution_count": 97,
   "metadata": {},
   "outputs": [
    {
     "name": "stdout",
     "output_type": "stream",
     "text": [
      "222.3733763325271\n",
      "0.04978030099435635\n"
     ]
    }
   ],
   "source": [
    "# check results using Numpy\n",
    "print(np.var(temperature_vector))\n",
    "print(np.var(precipitation_vector))"
   ]
  },
  {
   "cell_type": "markdown",
   "metadata": {},
   "source": [
    "**Your Interpretation:** The variance in temperature for Taylorsville in 2024 is 222 degrees and the variance in precipitation is 0.05. \n",
    "Following the equation for variance, the mean of the vector is first calculated using the mean_vect function. The differnce from the mean is then found for each value in the vector and then squared. Each of these values are added into the empty var1 list. Finally, to get the variance, we take the average using the sum_vect function and divide by the length of the vector."
   ]
  },
  {
   "cell_type": "markdown",
   "metadata": {},
   "source": [
    "### Task 1.5: Histogram\n",
    "\n",
    "Write a function that takes a vector and an integer `b` and calculates a [histogram](https://en.wikipedia.org/wiki/Histogram) with `b` bins. The function should return an array containing two arrays. The first should be the counts for each bin, the second should contain the borders of the bins.\n",
    "\n",
    "For `b=6` for the temperature vector, your output should look like this: \n",
    "\n",
    "`[[19, 102, 78, 72, 95], [11.0, 23.0, 35.0, 47.0, 59.0, 71.0]]`\n",
    "\n",
    "Here, the first array gives the size of these bins, the second defines the bands that are equally spaced between minimum and maximum value. That is, the first band from 11.0-23.0 has 19 entries, the second, from 23.0-35.0 has 102 entries, etc. \n",
    "\n",
    "\n",
    "Calculate the histogram for precipitation and temperature when b=20. Once you have the calculated bins and values, plot the histogram for precipitaion and temperature using `hist` function in `matplotlib.pyplot` library. Provide a written interpretation of your results. Comment on the shape of each histogram; is it unimodal or bimodal? Is the distribution skewed (if so, in which direction)?"
   ]
  },
  {
   "cell_type": "code",
   "execution_count": 98,
   "metadata": {},
   "outputs": [],
   "source": [
    "#inspect sorted temp data\n",
    "sortedl = sorted(temperature_vector)"
   ]
  },
  {
   "cell_type": "code",
   "execution_count": 99,
   "metadata": {},
   "outputs": [],
   "source": [
    "#create histogram function\n",
    "\n",
    "def histogram(x,b): #two values where x is the vector and b in the number of bins\n",
    "    minl = min(x) #find min value in list\n",
    "    maxl = max(x) #find max value in list\n",
    "    width = (maxl-minl)/b #find width for each bin given number of desired bins\n",
    "\n",
    "    #start by defining bin borders\n",
    "    bins = [] #create list for bin border values\n",
    "    i = 0\n",
    "    while i <= b: #create bins of 'b' length\n",
    "        if i == 0: #initialize first bin\n",
    "            bins.append(minl) #min value of vector is 0 index/first boundary\n",
    "        else:\n",
    "            bins.append(minl+(i*width)) #add each width to get each subsequent bin boundary\n",
    "        i+=1      \n",
    "    \n",
    "    #create list for number of values in each bin\n",
    "    counts = [0] * b #create a list of b length to initialize counts\n",
    "    for i in x: #for each value in the vector\n",
    "        if i < maxl: #if values are less than max\n",
    "            bin_number = int((i-minl)/ width) #assign values into respective bins using width and flooring\n",
    "        elif i == maxl: #so that max value in accounted for and not assigned to a bin index that does not exist\n",
    "            bin_number = b-1 #place max value in last bin\n",
    "        counts[bin_number] +=1 #add bins counts to respective index in list\n",
    "        \n",
    "    return counts,bins"
   ]
  },
  {
   "cell_type": "code",
   "execution_count": 100,
   "metadata": {},
   "outputs": [
    {
     "name": "stdout",
     "output_type": "stream",
     "text": [
      "([12, 70, 87, 53, 69, 75], [11, 21.0, 31.0, 41.0, 51.0, 61.0, 71.0])\n"
     ]
    }
   ],
   "source": [
    "print(histogram(temperature_vector,6))"
   ]
  },
  {
   "cell_type": "code",
   "execution_count": 101,
   "metadata": {},
   "outputs": [
    {
     "name": "stdout",
     "output_type": "stream",
     "text": [
      "([12, 70, 87, 53, 69, 75], [11, 21.0, 31.0, 41.0, 51.0, 61.0, 71.0])\n",
      "([354, 6, 4, 0, 1, 1], [0.0, 0.43333333333333335, 0.8666666666666667, 1.3, 1.7333333333333334, 2.166666666666667, 2.6])\n"
     ]
    }
   ],
   "source": [
    "# the call to your function\n",
    "print(histogram(temperature_vector, 6))\n",
    "print(histogram(precipitation_vector, 6))"
   ]
  },
  {
   "cell_type": "code",
   "execution_count": 103,
   "metadata": {},
   "outputs": [
    {
     "data": {
      "text/plain": [
       "(array([12, 70, 87, 53, 69, 75]), array([11., 21., 31., 41., 51., 61., 71.]))"
      ]
     },
     "execution_count": 103,
     "metadata": {},
     "output_type": "execute_result"
    }
   ],
   "source": [
    "#check results using Numpy\n",
    "np.histogram(temperature_vector, bins = 6)"
   ]
  },
  {
   "cell_type": "code",
   "execution_count": 102,
   "metadata": {},
   "outputs": [
    {
     "name": "stdout",
     "output_type": "stream",
     "text": [
      "(array([354,   6,   4,   0,   1,   1]), array([0.        , 0.43333333, 0.86666667, 1.3       , 1.73333333,\n",
      "       2.16666667, 2.6       ]))\n"
     ]
    }
   ],
   "source": [
    "print(np.histogram(precipitation_vector, bins = 6))"
   ]
  },
  {
   "cell_type": "code",
   "execution_count": 327,
   "metadata": {},
   "outputs": [],
   "source": [
    "import matplotlib.pyplot as plt"
   ]
  },
  {
   "cell_type": "code",
   "execution_count": 333,
   "metadata": {},
   "outputs": [
    {
     "data": {
      "text/plain": [
       "<function matplotlib.pyplot.show(close=None, block=None)>"
      ]
     },
     "execution_count": 333,
     "metadata": {},
     "output_type": "execute_result"
    },
    {
     "data": {
      "image/png": "[encoded data removed]",
      "text/plain": [
       "<Figure size 640x480 with 1 Axes>"
      ]
     },
     "metadata": {},
     "output_type": "display_data"
    }
   ],
   "source": [
    "#histogram for temperature vector\n",
    "plt.hist(temperature_vector, bins=20, color='lavender', edgecolor='black')\n",
    "plt.title(\"Daily Temperature in Taylorsville - 2024\")\n",
    "plt.show"
   ]
  },
  {
   "cell_type": "code",
   "execution_count": 328,
   "metadata": {},
   "outputs": [
    {
     "data": {
      "text/plain": [
       "<function matplotlib.pyplot.show(close=None, block=None)>"
      ]
     },
     "execution_count": 328,
     "metadata": {},
     "output_type": "execute_result"
    },
    {
     "data": {
      "image/png": "[encoded data removed]",
      "text/plain": [
       "<Figure size 640x480 with 1 Axes>"
      ]
     },
     "metadata": {},
     "output_type": "display_data"
    }
   ],
   "source": [
    "#histogram for precipitations\n",
    "plt.hist(precipitation_vector, bins=20, color='lavender', edgecolor='black')\n",
    "plt.title(\"Precipitation in Taylorsville - 2024\")\n",
    "plt.show"
   ]
  },
  {
   "cell_type": "code",
   "execution_count": 334,
   "metadata": {},
   "outputs": [
    {
     "name": "stdout",
     "output_type": "stream",
     "text": [
      "361\n"
     ]
    }
   ],
   "source": [
    "check0 = [x for x in precipitation_vector if x < 1] #double checking these values\n",
    "print(len(check0))"
   ]
  },
  {
   "cell_type": "markdown",
   "metadata": {},
   "source": [
    "**Your interpretation:** The histogram for the temperature vector is bimodal and has two distinct peaks, though is slightly right-handed with the mode on the right side of the mean. Each of these peaks corresponds approximately to the bins with the greatest counts in the calculations above. The histogram for precipitation is unimodal with a distinct peak around zero (left-handed). When looking at the calculated results for the bins, we see that Taylorsville had 354 days with 0 inches of precipitations. "
   ]
  },
  {
   "cell_type": "markdown",
   "metadata": {},
   "source": [
    "## Part 2: Working with Matrices"
   ]
  },
  {
   "cell_type": "markdown",
   "metadata": {},
   "source": [
    "For the second part of the homework, we are going to work with matrices. The [dataset we will use](https://www.wunderground.com/history/airport/KSLC/2015/1/1/CustomHistory.html?dayend=31&monthend=12&yearend=2015&req_city=&req_state=&req_statename=&reqdb.zip=&reqdb.magic=&reqdb.wmo=) contains different properties of the weather in Salt Lake City for 2015 (temperature, humidity, sea level, ...). It is stored in the file [`SLC_2015.csv`](SLC_2015.csv) in this repository."
   ]
  },
  {
   "cell_type": "markdown",
   "metadata": {},
   "source": [
    "We first read the data from the file and store it in a nested python array (`weather_matrix`). A nested python array is an array, where each element is an array itself. Here is a simple example: "
   ]
  },
  {
   "cell_type": "code",
   "execution_count": 105,
   "metadata": {},
   "outputs": [
    {
     "data": {
      "text/plain": [
       "[[1, 2, 3], ['a', 'b', 'c']]"
      ]
     },
     "execution_count": 105,
     "metadata": {},
     "output_type": "execute_result"
    }
   ],
   "source": [
    "arr1 = [1,2,3]\n",
    "arr2 = ['a', 'b', 'c']\n",
    "\n",
    "nestedArr = [arr1, arr2]\n",
    "nestedArr"
   ]
  },
  {
   "cell_type": "markdown",
   "metadata": {},
   "source": [
    "We provide you with the import code, which writes the data into the nested list `temperature_matrix`. The list contains one list for each month, which, in turn, contains the mean temperature of every day of that month. "
   ]
  },
  {
   "cell_type": "code",
   "execution_count": 106,
   "metadata": {},
   "outputs": [
    {
     "name": "stdout",
     "output_type": "stream",
     "text": [
      "[[15, 19, 26, 28, 37, 38, 38, 36, 35, 31, 39, 36, 35, 30, 31, 31, 37, 44, 40, 35, 31, 31, 31, 33, 42, 41, 44, 42, 36, 40, 39], [39, 49, 50, 50, 53, 57, 60, 53, 55, 45, 43, 47, 46, 48, 43, 40, 38, 44, 47, 44, 39, 33, 31, 35, 44, 35, 37, 36], [40, 37, 34, 33, 39, 43, 45, 45, 46, 50, 54, 50, 51, 56, 62, 63, 61, 53, 47, 53, 57, 54, 52, 47, 42, 48, 56, 62, 53, 57, 63], [46, 44, 44, 54, 60, 50, 52, 46, 49, 53, 58, 50, 57, 56, 33, 44, 50, 54, 56, 56, 60, 61, 61, 59, 51, 46, 50, 57, 65, 63], [63, 71, 68, 67, 62, 59, 58, 57, 49, 53, 59, 68, 65, 65, 53, 48, 56, 58, 55, 59, 58, 58, 55, 57, 62, 59, 61, 61, 64, 71, 76], [80, 68, 69, 68, 69, 70, 66, 73, 77, 78, 72, 74, 75, 76, 81, 77, 78, 83, 83, 78, 81, 78, 78, 83, 82, 84, 87, 88, 91, 89], [87, 87, 87, 89, 79, 79, 76, 75, 73, 72, 77, 79, 81, 77, 80, 80, 79, 74, 74, 73, 76, 77, 75, 78, 78, 84, 77, 66, 70, 76, 79], [80, 79, 69, 76, 82, 74, 76, 69, 72, 79, 83, 81, 83, 88, 83, 79, 77, 72, 74, 76, 81, 74, 76, 84, 85, 78, 77, 80, 85, 82, 75], [82, 83, 82, 80, 75, 60, 65, 66, 71, 73, 74, 76, 76, 74, 65, 57, 59, 56, 60, 65, 69, 71, 73, 72, 77, 79, 79, 74, 73, 77], [78, 64, 61, 62, 64, 65, 62, 65, 64, 69, 70, 64, 65, 67, 66, 66, 69, 66, 62, 56, 57, 55, 54, 57, 58, 58, 51, 49, 50, 45, 57], [61, 61, 53, 41, 39, 40, 40, 44, 51, 36, 40, 42, 41, 43, 48, 39, 32, 41, 42, 39, 34, 34, 35, 40, 45, 32, 28, 25, 25, 28], [29, 29, 32, 35, 36, 38, 37, 45, 51, 47, 37, 35, 36, 31, 26, 30, 23, 35, 41, 36, 38, 38, 31, 30, 23, 19, 17, 19, 21, 21, 12]]\n",
      "Mean temp on August 23: 76\n"
     ]
    }
   ],
   "source": [
    "# initialize the 12 arrays for the months\n",
    "temperature_matrix = [[] for i in range(12)]\n",
    "\n",
    "# open the file and append the values of the last column to the array\n",
    "with open('SLC_2015.csv') as csvfile:\n",
    "    filereader = csv.reader(csvfile, delimiter=',', quotechar='|')\n",
    "    # get rid of the header\n",
    "    next(filereader)\n",
    "    for row in filereader:\n",
    "        month = int(row[0].split('/')[0])\n",
    "        mean_temp = int(row[2])\n",
    "        temperature_matrix[month-1].append(mean_temp)\n",
    "\n",
    "print(temperature_matrix)\n",
    "\n",
    "# the mean tempertarure on August 23. Note the index offset:\n",
    "print(\"Mean temp on August 23: \" + str(temperature_matrix[7][22]))"
   ]
  },
  {
   "cell_type": "markdown",
   "metadata": {},
   "source": [
    "We will next compute the same descriptive statistics as in Part 1 using the nested array `temperature_matrix`. \n",
    "\n",
    "In this problem, **we again want you to implement the solutions using standard python functionality and the math library**. We recommend you check your results using NumPy.\n",
    "\n",
    "**Note:** Since the lists in the matrix are of varying lengths (28 to 31 days) many of the standard NumPy functions won't work directly."
   ]
  },
  {
   "cell_type": "markdown",
   "metadata": {},
   "source": [
    "### Task 2.1: Calculates the Avg. Temperature from January to June (5 months)\n",
    "\n",
    "Write a function that calculates the mean of a matrix from a particular starting month to the ending month. For this version calculate the mean over all elements in the matrix as if it was one large vector. \n",
    "Pass in the matrix with the weather data,starting and ending month and return the result. Provide a written interpretation of your results.\n",
    "Can you use your function from Part 1 and get a valid result?"
   ]
  },
  {
   "cell_type": "code",
   "execution_count": 171,
   "metadata": {},
   "outputs": [
    {
     "name": "stdout",
     "output_type": "stream",
     "text": [
      "[[15, 19, 26, 28, 37, 38, 38, 36, 35, 31, 39, 36, 35, 30, 31, 31, 37, 44, 40, 35, 31, 31, 31, 33, 42, 41, 44, 42, 36, 40, 39], [39, 49, 50, 50, 53, 57, 60, 53, 55, 45, 43, 47, 46, 48, 43, 40, 38, 44, 47, 44, 39, 33, 31, 35, 44, 35, 37, 36], [40, 37, 34, 33, 39, 43, 45, 45, 46, 50, 54, 50, 51, 56, 62, 63, 61, 53, 47, 53, 57, 54, 52, 47, 42, 48, 56, 62, 53, 57, 63], [46, 44, 44, 54, 60, 50, 52, 46, 49, 53, 58, 50, 57, 56, 33, 44, 50, 54, 56, 56, 60, 61, 61, 59, 51, 46, 50, 57, 65, 63], [63, 71, 68, 67, 62, 59, 58, 57, 49, 53, 59, 68, 65, 65, 53, 48, 56, 58, 55, 59, 58, 58, 55, 57, 62, 59, 61, 61, 64, 71, 76]]\n"
     ]
    }
   ],
   "source": [
    "#inspecting what the matrix looks like for the first 5 months for comparison\n",
    "print(temperature_matrix[0:5])"
   ]
  },
  {
   "cell_type": "code",
   "execution_count": 215,
   "metadata": {},
   "outputs": [],
   "source": [
    "# your code goes here\n",
    "def avg_temp(x): #define function month range parameters\n",
    "    new_vect = [val for row in x[0:5] for val in row] #flatten into one large vector\n",
    "    mean_temps = mean_vect(new_vect) #pass mean function from above\n",
    "    return mean_temps #return mean of vector "
   ]
  },
  {
   "cell_type": "code",
   "execution_count": 216,
   "metadata": {},
   "outputs": [
    {
     "name": "stdout",
     "output_type": "stream",
     "text": [
      "48.50993377483444\n"
     ]
    }
   ],
   "source": [
    "print(avg_temp(temperature_matrix))"
   ]
  },
  {
   "cell_type": "code",
   "execution_count": 110,
   "metadata": {},
   "outputs": [],
   "source": [
    "import numpy as np"
   ]
  },
  {
   "cell_type": "code",
   "execution_count": 170,
   "metadata": {},
   "outputs": [
    {
     "name": "stdout",
     "output_type": "stream",
     "text": [
      "48.50993377483444\n"
     ]
    }
   ],
   "source": [
    "# check results with numpy\n",
    "print(np.mean([val for month in range(5) for val in temperature_matrix[month]]))"
   ]
  },
  {
   "cell_type": "markdown",
   "metadata": {},
   "source": [
    "**Your Interpretation:** When the matrix is flattened into a large vector, the original mean function does work. The mean temperature for the first five months of 2024 (January-June) is 48.51. This result does not include values for June itself."
   ]
  },
  {
   "cell_type": "markdown",
   "metadata": {},
   "source": [
    "### Task 2.2:  Calculate the mean temperature of each month in the second half year (July to December)\n",
    "\n",
    "Write a function that calculates the mean temperature of each month in the second half year and returns an array with the means for each row. Provide a written interpretation of your results. Can you use the function you implemented in Part 1 here efficiently? If so, use it."
   ]
  },
  {
   "cell_type": "code",
   "execution_count": 174,
   "metadata": {},
   "outputs": [
    {
     "name": "stdout",
     "output_type": "stream",
     "text": [
      "[[87, 87, 87, 89, 79, 79, 76, 75, 73, 72, 77, 79, 81, 77, 80, 80, 79, 74, 74, 73, 76, 77, 75, 78, 78, 84, 77, 66, 70, 76, 79], [80, 79, 69, 76, 82, 74, 76, 69, 72, 79, 83, 81, 83, 88, 83, 79, 77, 72, 74, 76, 81, 74, 76, 84, 85, 78, 77, 80, 85, 82, 75], [82, 83, 82, 80, 75, 60, 65, 66, 71, 73, 74, 76, 76, 74, 65, 57, 59, 56, 60, 65, 69, 71, 73, 72, 77, 79, 79, 74, 73, 77], [78, 64, 61, 62, 64, 65, 62, 65, 64, 69, 70, 64, 65, 67, 66, 66, 69, 66, 62, 56, 57, 55, 54, 57, 58, 58, 51, 49, 50, 45, 57], [61, 61, 53, 41, 39, 40, 40, 44, 51, 36, 40, 42, 41, 43, 48, 39, 32, 41, 42, 39, 34, 34, 35, 40, 45, 32, 28, 25, 25, 28], [29, 29, 32, 35, 36, 38, 37, 45, 51, 47, 37, 35, 36, 31, 26, 30, 23, 35, 41, 36, 38, 38, 31, 30, 23, 19, 17, 19, 21, 21, 12]]\n"
     ]
    }
   ],
   "source": [
    "print(temperature_matrix[6:]) #july to december"
   ]
  },
  {
   "cell_type": "code",
   "execution_count": 180,
   "metadata": {},
   "outputs": [],
   "source": [
    "# your code goes here\n",
    "def avg_temp2(matrix): #define function \n",
    "    mean_temps = [] #define empty array\n",
    "    for i in (matrix[6:]): #take elemenents from July (index 6) until the end of the year\n",
    "        averages = mean_vect(i) #pass mean_vect on each array\n",
    "        mean_temps.append(averages) #add each of the averages to the list\n",
    "    return mean_temps #return least of means for each month"
   ]
  },
  {
   "cell_type": "code",
   "execution_count": 181,
   "metadata": {},
   "outputs": [
    {
     "name": "stdout",
     "output_type": "stream",
     "text": [
      "[77.87096774193549, 78.35483870967742, 71.43333333333334, 61.16129032258065, 39.96666666666667, 31.548387096774192]\n"
     ]
    }
   ],
   "source": [
    "print(avg_temp2(temperature_matrix))"
   ]
  },
  {
   "cell_type": "code",
   "execution_count": 197,
   "metadata": {},
   "outputs": [
    {
     "name": "stdout",
     "output_type": "stream",
     "text": [
      "[np.float64(77.87096774193549), np.float64(78.35483870967742), np.float64(71.43333333333334), np.float64(61.16129032258065), np.float64(39.96666666666667), np.float64(31.548387096774192)]\n"
     ]
    }
   ],
   "source": [
    "# check results with numpy\n",
    "print([np.mean(i) for i in temperature_matrix[6:]])"
   ]
  },
  {
   "cell_type": "markdown",
   "metadata": {},
   "source": [
    "**Your Interpretation:** When passing the mean_vect function over each of the individual arrays, this does work and returns an a list of mean temperatures for each month. These means follow an expected trend and greatly decrease in November/December."
   ]
  },
  {
   "cell_type": "markdown",
   "metadata": {},
   "source": [
    "### Task 2.3:  Calculate the median temperature from February to August\n",
    "\n",
    "Write a function that calculates and returns the median of a matrix over all values from February to August (independent from which row they are coming) and returns it. Provide a written interpretation of your results. Can you use your function from Part 1 and get a valid result?"
   ]
  },
  {
   "cell_type": "code",
   "execution_count": 338,
   "metadata": {},
   "outputs": [],
   "source": [
    "# calculate the median of a matrix \n",
    "def med_temp(x): #define function that will take a matrix\n",
    "    new_vect = [val for row in x[1:8] for val in row] #flatten into one large vector\n",
    "    med_temps = med_vector(new_vect) #use median function from above on large vector\n",
    "    return med_temps #return mean of vector \n"
   ]
  },
  {
   "cell_type": "code",
   "execution_count": 337,
   "metadata": {},
   "outputs": [
    {
     "name": "stdout",
     "output_type": "stream",
     "text": [
      "62.5\n"
     ]
    }
   ],
   "source": [
    "print(med_temp(temperature_matrix))"
   ]
  },
  {
   "cell_type": "code",
   "execution_count": 335,
   "metadata": {},
   "outputs": [
    {
     "name": "stdout",
     "output_type": "stream",
     "text": [
      "62.5\n"
     ]
    }
   ],
   "source": [
    "# check results with numpy\n",
    "print(np.median([val for month in range(1,8) for val in temperature_matrix[month]]))"
   ]
  },
  {
   "cell_type": "markdown",
   "metadata": {},
   "source": [
    "**Your Interpretation:** The median temperature in Taylorsville in 2024 from February to August is 62.5 (this includes the temperatures from August). The median function (med_vector) from above does work on the flattened vector that is created in the second line. "
   ]
  },
  {
   "cell_type": "markdown",
   "metadata": {},
   "source": [
    "### Task 2.4: Calculate the median temperature of each month in the first half year (January to June)\n",
    "\n",
    "Write a function that calculates the median temperature of each sub array (i.e. each row in the temperature_matrix) in the first half year, and returns an array of medians (one entry for each row). To do so, use the function you implemented in Part 1. Provide a written interpretation of your results. "
   ]
  },
  {
   "cell_type": "code",
   "execution_count": 339,
   "metadata": {},
   "outputs": [],
   "source": [
    "# your code goes here\n",
    "def med_temp2(matrix): #define function \n",
    "    med_temp = [] #define empty array\n",
    "    for i in (matrix[0:6]): #since five months was not specified here, I did calculate for entire first half, including June\n",
    "        median = med_vector(i) #find median of each month using med_vector\n",
    "        med_temp.append(median) #add each of the medians to the empty array\n",
    "    return med_temp #return array of medians"
   ]
  },
  {
   "cell_type": "code",
   "execution_count": 340,
   "metadata": {},
   "outputs": [
    {
     "name": "stdout",
     "output_type": "stream",
     "text": [
      "[36, 44.0, 51, 53.5, 59, 78.0]\n"
     ]
    }
   ],
   "source": [
    "print(med_temp2(temperature_matrix))"
   ]
  },
  {
   "cell_type": "code",
   "execution_count": 341,
   "metadata": {},
   "outputs": [
    {
     "name": "stdout",
     "output_type": "stream",
     "text": [
      "[np.float64(36.0), np.float64(44.0), np.float64(51.0), np.float64(53.5), np.float64(59.0), np.float64(78.0)]\n"
     ]
    }
   ],
   "source": [
    "#check using numpy\n",
    "print([np.median(month) for month in temperature_matrix[:6]])"
   ]
  },
  {
   "cell_type": "markdown",
   "metadata": {},
   "source": [
    "**Your Interpretation:** Passing the median function on each month's sub array in this med_temp2 function does work here. As expected, median temperatures rise during the first half of the year."
   ]
  },
  {
   "cell_type": "markdown",
   "metadata": {},
   "source": [
    "### Task 2.5: Calculate the standard deviation of a whole matrix\n",
    "\n",
    "Write a function that calculates the [standard deviation](https://en.wikipedia.org/wiki/Standard_deviation) of a matrix over all values in the matrix (ignoring from which row they were coming) and returns it. Can you use your function calculating variance from Part 1 and get a valid result? Provide a written interpretation of your results. "
   ]
  },
  {
   "cell_type": "code",
   "execution_count": 235,
   "metadata": {},
   "outputs": [],
   "source": [
    "# your code goes here #func is var_vector\n",
    "def stdev(matrix): #define function\n",
    "    long_vect = [val for row in temperature_matrix for val in row] #flatten whole matrix into one vector\n",
    "    var = var_vector(long_vect) #take variance of the whole vector\n",
    "    std = math.sqrt(var) #take square root to find standard deviation\n",
    "    return std #return standard deviation"
   ]
  },
  {
   "cell_type": "code",
   "execution_count": 236,
   "metadata": {},
   "outputs": [
    {
     "name": "stdout",
     "output_type": "stream",
     "text": [
      "17.908994103709954\n"
     ]
    }
   ],
   "source": [
    "print(stdev(temperature_matrix))"
   ]
  },
  {
   "cell_type": "code",
   "execution_count": 231,
   "metadata": {},
   "outputs": [
    {
     "name": "stdout",
     "output_type": "stream",
     "text": [
      "17.908994103709954\n"
     ]
    }
   ],
   "source": [
    "# check results with numpy\n",
    "print(np.std([val for month in temperature_matrix for val in month]))"
   ]
  },
  {
   "cell_type": "markdown",
   "metadata": {},
   "source": [
    "**Your Interpretation:** The standard deviation for temperature in Taylorsville in 2024 was 17 degrees F. Each value from each array is extracted here using list comprehension to calculate theh standard deviation for the entire matrix. Using the variance function works for this function."
   ]
  },
  {
   "cell_type": "markdown",
   "metadata": {},
   "source": [
    "### Task 2.6: Calculate the standard deviation of each vector of a matrix\n",
    "\n",
    "Write a function that calculates the [standard deviation](https://en.wikipedia.org/wiki/Standard_deviation) of each array in the matrix and returns an array of standard deviations (one standard deviation for each row). To do so, use the function calculating variance you implemented in Part 1. \n",
    "Pass in the matrix with the temperature data and return the result. Provide a written interpretation of your results - is the standard deviation consistent across the seasons? "
   ]
  },
  {
   "cell_type": "code",
   "execution_count": 246,
   "metadata": {},
   "outputs": [],
   "source": [
    "# your code goes here\n",
    "def stdev2(matrix): #define function \n",
    "    stdev_temp = [] #define empty array\n",
    "    for i in matrix: #for every month in the matrix\n",
    "        stdev = math.sqrt(var_vector(i)) #calculate standard deviation by taking sqrt of variance\n",
    "        stdev_temp.append(stdev) #add each of the stdev values\n",
    "    return stdev_temp #return list of standard deviations for each month"
   ]
  },
  {
   "cell_type": "code",
   "execution_count": 247,
   "metadata": {},
   "outputs": [
    {
     "name": "stdout",
     "output_type": "stream",
     "text": [
      "[6.5047809200539595, 7.343868051591318, 8.263229231729458, 6.923791511078947, 6.272679973334109, 6.535713852025312, 5.020872148142359, 4.666617114845193, 7.552850823070421, 6.937959048194395, 8.715822138820615, 8.96890222245524]\n"
     ]
    }
   ],
   "source": [
    "print(stdev2(temperature_matrix))"
   ]
  },
  {
   "cell_type": "code",
   "execution_count": 248,
   "metadata": {},
   "outputs": [
    {
     "name": "stdout",
     "output_type": "stream",
     "text": [
      "[np.float64(6.5047809200539595), np.float64(7.343868051591319), np.float64(8.263229231729458), np.float64(6.923791511078947), np.float64(6.272679973334109), np.float64(6.535713852025313), np.float64(5.0208721481423595), np.float64(4.666617114845193), np.float64(7.552850823070421), np.float64(6.937959048194395), np.float64(8.715822138820615), np.float64(8.96890222245524)]\n"
     ]
    }
   ],
   "source": [
    "#check using numpy\n",
    "print([np.std(month) for month in temperature_matrix])"
   ]
  },
  {
   "cell_type": "markdown",
   "metadata": {},
   "source": [
    "**Your Interpretation:** Interestingly, standard deviations in daily temperature were not vastly different from month to month. These results match those from numpy when using the standard deviation function from above."
   ]
  },
  {
   "cell_type": "markdown",
   "metadata": {},
   "source": [
    "## Part 3: Poisson distribution \n",
    "\n",
    "In class, we looked at [Bernoulli](https://en.wikipedia.org/wiki/Bernoulli_distribution) and [binomial](https://en.wikipedia.org/wiki/Binomial_distribution) discrete random variables. Another example of a discrete random variable is a *Poisson random variable*. \n",
    "\n",
    "Read the [wikipedia article on the Poisson distribution](https://en.wikipedia.org/wiki/Poisson_distribution)\n",
    "\n",
    "### Part 3.1. Descriptive statistics\n",
    "\n",
    "Describe what a Poisson random variable is. What is the parameter, $\\lambda$? What is the min, max, mean, and variance of a Poisson random variable? "
   ]
  },
  {
   "cell_type": "markdown",
   "metadata": {},
   "source": [
    "**Your description:** \n",
    "1. A Poisson random variable is a discrete and independent variable that has a known mean rate of occurence that is greater than zero.\n",
    "2. The parameter, $\\lambda$ , is equal to the expected value of X, or the mean rate for which an event is expected to occur. \n",
    "3. The min for a Poisson random variable is zero and the max is infinity. The likelihood of an event occuring in a Poisson distribution will  be greater than zero and has the potenital for no upper limit of events. The mean and variance of a Poisson random variable are $\\lambda$, which are the expected number of events occuring.\n",
    "   \n"
   ]
  },
  {
   "cell_type": "markdown",
   "metadata": {},
   "source": [
    "### Part 3.2. Example \n",
    "\n",
    "Give an example of an application that is described by a Poisson random variable."
   ]
  },
  {
   "cell_type": "markdown",
   "metadata": {},
   "source": [
    "**Your description:** An example of a Poisson random variable that is given is the number of calls in an hour to a call center. Number of calls is a discrete and independent variable because the number of calls must be a whole number and each call happens independently of one another. Someone calling the center does not change the probability of someone else calling the center at a given time. The call center will have a known mean number of calls that they expect to receive at a given time."
   ]
  },
  {
   "cell_type": "markdown",
   "metadata": {},
   "source": [
    "### Part 3.3. Probability mass function\n",
    "\n",
    "For the parameter $\\lambda = 3.9$, plot the probability mass function (you may use scipy). "
   ]
  },
  {
   "cell_type": "code",
   "execution_count": 249,
   "metadata": {},
   "outputs": [
    {
     "name": "stdout",
     "output_type": "stream",
     "text": [
      "Note: you may need to restart the kernel to use updated packages.\n"
     ]
    }
   ],
   "source": [
    "pip install scipy -q"
   ]
  },
  {
   "cell_type": "code",
   "execution_count": 256,
   "metadata": {},
   "outputs": [],
   "source": [
    "import scipy \n",
    "from scipy.stats import poisson\n",
    "import matplotlib.pyplot as plt\n",
    "import numpy as np"
   ]
  },
  {
   "cell_type": "code",
   "execution_count": 344,
   "metadata": {},
   "outputs": [
    {
     "data": {
      "text/plain": [
       "<function matplotlib.pyplot.show(close=None, block=None)>"
      ]
     },
     "execution_count": 344,
     "metadata": {},
     "output_type": "execute_result"
    },
    {
     "data": {
      "image/png": "[encoded data removed]",
      "text/plain": [
       "<Figure size 640x480 with 1 Axes>"
      ]
     },
     "metadata": {},
     "output_type": "display_data"
    }
   ],
   "source": [
    "# probability mass function using lambda = 3.9\n",
    "x = np.arange(0,10,1) #create an array for x axis\n",
    "y = poisson.pmf(x, mu = 3.9) #use scipy package for pmf, mu = lambda\n",
    "plt.plot(x,y) #plot values\n",
    "plt.title(\"PMF of lambda = 3.9\")\n",
    "plt.show"
   ]
  },
  {
   "cell_type": "markdown",
   "metadata": {},
   "source": [
    "### Part 3.4. Poission sampling\n",
    "\n",
    "Write python code that takes 1475 samples from the Poisson distribution with parameter $\\lambda = 3.9$. Make a histogram of the samples and compute the sample mean and variance. How does the histogram compare to the probability mass function?"
   ]
  },
  {
   "cell_type": "code",
   "execution_count": 293,
   "metadata": {},
   "outputs": [
    {
     "data": {
      "text/plain": [
       "array([1, 5, 4, 1, 5, 3, 3, 5, 3, 2, 7, 5, 1, 2, 5, 4, 0, 1, 6, 3])"
      ]
     },
     "execution_count": 293,
     "metadata": {},
     "output_type": "execute_result"
    }
   ],
   "source": [
    "#create random values using scipy poisson\n",
    "sampling = poisson.rvs(mu = 3.9, size = 1475)\n",
    "sampling[:20] #view part of array"
   ]
  },
  {
   "cell_type": "code",
   "execution_count": 295,
   "metadata": {},
   "outputs": [
    {
     "name": "stdout",
     "output_type": "stream",
     "text": [
      "3.9877966101694917\n"
     ]
    }
   ],
   "source": [
    "#find sample mean \n",
    "print(mean_vect(sampling))"
   ]
  },
  {
   "cell_type": "code",
   "execution_count": 296,
   "metadata": {},
   "outputs": [
    {
     "name": "stdout",
     "output_type": "stream",
     "text": [
      "3.9877966101694917\n"
     ]
    }
   ],
   "source": [
    "#check using numpy\n",
    "print(np.mean(sampling))"
   ]
  },
  {
   "cell_type": "code",
   "execution_count": 297,
   "metadata": {},
   "outputs": [
    {
     "name": "stdout",
     "output_type": "stream",
     "text": [
      "4.012054467107158\n"
     ]
    }
   ],
   "source": [
    "#find sample variance\n",
    "print(var_vector(sampling))"
   ]
  },
  {
   "cell_type": "code",
   "execution_count": 299,
   "metadata": {},
   "outputs": [
    {
     "name": "stdout",
     "output_type": "stream",
     "text": [
      "4.012054467107154\n"
     ]
    }
   ],
   "source": [
    "#find sample variance using numpy\n",
    "print(np.var(sampling))"
   ]
  },
  {
   "cell_type": "code",
   "execution_count": 314,
   "metadata": {},
   "outputs": [
    {
     "data": {
      "text/plain": [
       "(array([126, 229, 301, 282, 231, 220,  52,  23,   5,   6]),\n",
       " array([ 0. ,  1.2,  2.4,  3.6,  4.8,  6. ,  7.2,  8.4,  9.6, 10.8, 12. ]))"
      ]
     },
     "execution_count": 314,
     "metadata": {},
     "output_type": "execute_result"
    }
   ],
   "source": [
    "#view histogram without plot\n",
    "np.histogram(sampling)"
   ]
  },
  {
   "cell_type": "code",
   "execution_count": 319,
   "metadata": {},
   "outputs": [
    {
     "data": {
      "text/plain": [
       "<function matplotlib.pyplot.show(close=None, block=None)>"
      ]
     },
     "execution_count": 319,
     "metadata": {},
     "output_type": "execute_result"
    },
    {
     "data": {
      "image/png": "[encoded data removed]",
      "text/plain": [
       "<Figure size 640x480 with 1 Axes>"
      ]
     },
     "metadata": {},
     "output_type": "display_data"
    }
   ],
   "source": [
    "plt.hist(sampling, bins=10, color='lavender', edgecolor='black')\n",
    "plt.title(\"Histogram of Random Sample\")\n",
    "plt.show"
   ]
  },
  {
   "cell_type": "markdown",
   "metadata": {},
   "source": [
    "**Your description:** The histogram, follows a similar distribution to the plot of the PMF. The mean of the random sample matches the specified value for lambda and the variance is very close, demonstrating the expected properties of a poisson distribution."
   ]
  }
 ],
 "metadata": {
  "kernelspec": {
   "display_name": "Python 3 (ipykernel)",
   "language": "python",
   "name": "python3"
  },
  "language_info": {
   "codemirror_mode": {
    "name": "ipython",
    "version": 3
   },
   "file_extension": ".py",
   "mimetype": "text/x-python",
   "name": "python",
   "nbconvert_exporter": "python",
   "pygments_lexer": "ipython3",
   "version": "3.13.0"
  }
 },
 "nbformat": 4,
 "nbformat_minor": 4
}
